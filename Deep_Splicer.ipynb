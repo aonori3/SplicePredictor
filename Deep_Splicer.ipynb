{
 "cells": [
  {
   "cell_type": "markdown",
   "metadata": {},
   "source": [
    "# Deep Splicer: Genomic Sequence Classification\n",
    "\n",
    "## Introduction\n",
    "This notebook demonstrates the process of classifying genomic sequences using a convolutional neural network.\n",
    "\n",
    "## Setup\n",
    "Install necessary packages and import libraries."
   ]
  },
  {
   "cell_type": "code",
   "execution_count": null,
   "metadata": {
    "id": "ylSjajCpr5Eq"
   },
   "outputs": [],
   "source": [
    "import math\n",
    "import os\n",
    "import time\n",
    "from collections import Counter\n",
    "import numpy as np\n",
    "import pandas as pd\n",
    "import seaborn as sn\n",
    "import tensorflow as tf\n",
    "import matplotlib.pyplot as plt\n",
    "from itertools import cycle\n",
    "from tensorflow.keras import layers\n",
    "from tensorflow.keras.layers import Input, Add, Dense, Activation, ZeroPadding2D, BatchNormalization, Flatten, Conv1D, Conv2D\n",
    "from tensorflow.keras.layers import AveragePooling2D, MaxPooling1D, MaxPooling2D, Dropout, GlobalMaxPooling2D, GlobalAveragePooling2D\n",
    "from tensorflow.keras.models import Model, load_model\n",
    "from tensorflow.keras.optimizers import Adam, Nadam\n",
    "from tensorflow.keras.callbacks import LearningRateScheduler\n",
    "from tensorflow.keras.preprocessing.sequence import pad_sequences\n",
    "import tensorflow.keras.backend as K\n",
    "from tensorflow.keras.metrics import top_k_categorical_accuracy\n",
    "from tensorflow.keras.regularizers import l1, l2, l1_l2\n",
    "from sklearn.metrics import classification_report, confusion_matrix, precision_recall_curve, roc_auc_score, auc, roc_curve, average_precision_score, recall_score\n",
    "from sklearn.model_selection import train_test_split\n",
    "from sklearn.utils import resample\n",
    "from ensemblrest import EnsemblRest\n",
    "\n",
    "ensRest = EnsemblRest()"
   ]
  },
  {
   "cell_type": "markdown",
   "metadata": {
    "id": "Uoc9kGiwSxd8"
   },
   "source": [
    "## Data Preprocessing\n",
    "Load and preprocess the dataset."
   ]
  },
  {
   "cell_type": "code",
   "execution_count": 2,
   "metadata": {
    "id": "m_4hevdwsmu3"
   },
   "outputs": [],
   "source": [
    "# Change directory to the dataset location\n",
    "os.chdir(\"homo_sapiens\")\n",
    "\n",
    "# Define constants\n",
    "FLANKING_LEN = 200\n",
    "\n",
    "# Define one-hot encoding function using numpy for efficiency\n",
    "def one_hot_encode(seq):\n",
    "    mapping = {'A': 0, 'C': 1, 'G': 2, 'T': 3, 'N': 4}\n",
    "    seq = seq.upper()\n",
    "    integer_encoded = np.array([mapping.get(base, 4) for base in seq])\n",
    "    one_hot_encoded = np.eye(5)[integer_encoded]\n",
    "    return one_hot_encoded[:, :4]  # Exclude the last column (for 'N')\n",
    "\n",
    "# Define function to get numpy arrays\n",
    "def get_np_array(oversampling=0, downsampling=0):\n",
    "    data = {'donor': [], 'acceptor': [], 'other': []}\n",
    "    flanking_length = FLANKING_LEN\n",
    "    \n",
    "    for type_seq in ['donor', 'acceptor', 'other']:\n",
    "        for i in range(0, 19305, 1000):\n",
    "            file_name = f\"{type_seq}_seqs_{i}_{i+1000}_flank_{flanking_length}.txt\"\n",
    "            with open(file_name) as fle:\n",
    "                seqs = [line[2:].rstrip() for line in fle if line.startswith(\">>\")]\n",
    "            data[type_seq].extend(seqs)\n",
    "    \n",
    "    # Perform oversampling/downsampling\n",
    "    if oversampling:\n",
    "        data['donor'] = resample(data['donor'], n_samples=oversampling, random_state=1)\n",
    "        data['acceptor'] = resample(data['acceptor'], n_samples=oversampling, random_state=1)\n",
    "    if downsampling:\n",
    "        data['other'] = resample(data['other'], n_samples=downsampling, random_state=1)\n",
    "    \n",
    "    # Combine all sequences and create labels\n",
    "    all_seqs = data['donor'] + data['acceptor'] + data['other']\n",
    "    labels = [0]*len(data['donor']) + [1]*len(data['acceptor']) + [2]*len(data['other'])\n",
    "    \n",
    "    # One-hot encode all sequences at once\n",
    "    X = np.array([one_hot_encode(seq) for seq in all_seqs])\n",
    "    Y = np.array(labels)\n",
    "    \n",
    "    return X, Y\n",
    "\n",
    "# Load dataset\n",
    "X, Y = get_np_array()"
   ]
  },
  {
   "cell_type": "markdown",
   "metadata": {},
   "source": [
    "## Dataset Partition\n",
    "Partition the dataset into training, validation, and test sets."
   ]
  },
  {
   "cell_type": "code",
   "execution_count": 3,
   "metadata": {
    "id": "mo38PBq6uWnv"
   },
   "outputs": [
    {
     "name": "stdout",
     "output_type": "stream",
     "text": [
      "Training set shape: (649750, 401, 4)\n",
      "Validation set shape: (81219, 401, 4)\n",
      "Test set shape: (81219, 401, 4)\n"
     ]
    }
   ],
   "source": [
    "# Dataset partition: 80% for training set and 20% for validation and testing datasets\n",
    "x_train, x_val_test, y_train, y_val_test = train_test_split(X,Y,test_size=0.2, random_state=42)\n",
    "\n",
    "# Dataset partition, training and validation datasets were divided in half. Final dataset partition: 80% training, 10% validation, 10% testing\n",
    "x_test, x_val, y_test, y_val = train_test_split(x_val_test,y_val_test,test_size=0.5, random_state=42)\n",
    "\n",
    "# One hot encoding the output\n",
    "y_train = tf.keras.utils.to_categorical(y_train)\n",
    "y_val = tf.keras.utils.to_categorical(y_val)\n",
    "y_test = tf.keras.utils.to_categorical(y_test)\n",
    "\n",
    "print(f\"Training set shape: {x_train.shape}\")\n",
    "print(f\"Validation set shape: {x_val.shape}\")\n",
    "print(f\"Test set shape: {x_test.shape}\")\n"
   ]
  },
  {
   "cell_type": "markdown",
   "metadata": {
    "id": "I9V9exrtVlVN"
   },
   "source": [
    "## Performance metrics and graphs"
   ]
  },
  {
   "cell_type": "code",
   "execution_count": 40,
   "metadata": {
    "id": "dCrOqWUdzYRi"
   },
   "outputs": [],
   "source": [
    "def performance_graphs(n_epochs, H):\n",
    "    \"\"\"\n",
    "    This function plots the accuracy and loss graphs as a function of epochs.\n",
    "    \n",
    "    Args:\n",
    "        n_epochs (int): Number of epochs\n",
    "        H (History): Training history obtained from Keras model fitting\n",
    "    \"\"\"\n",
    "    \n",
    "    plt.style.use(\"ggplot\")\n",
    "    \n",
    "    fig, (ax1, ax2) = plt.subplots(2, 1, figsize=(10, 12))\n",
    "    \n",
    "    # Accuracy plot\n",
    "    ax1.plot(np.arange(0, n_epochs), H.history[\"accuracy\"], label=\"train_acc\")\n",
    "    ax1.plot(np.arange(0, n_epochs), H.history[\"val_accuracy\"], label=\"val_acc\")\n",
    "    ax1.set_title(\"Training and Validation Accuracy\")\n",
    "    ax1.set_xlabel(\"Epoch\")\n",
    "    ax1.set_ylabel(\"Accuracy\")\n",
    "    ax1.legend()\n",
    "    \n",
    "    # Loss plot\n",
    "    ax2.plot(np.arange(0, n_epochs), H.history[\"loss\"], label=\"train_loss\")\n",
    "    ax2.plot(np.arange(0, n_epochs), H.history[\"val_loss\"], label=\"val_loss\")\n",
    "    ax2.set_title(\"Training and Validation Loss\")\n",
    "    ax2.set_xlabel(\"Epoch\")\n",
    "    ax2.set_ylabel(\"Loss\")\n",
    "    ax2.legend()\n",
    "    \n",
    "    plt.tight_layout()\n",
    "    plt.show()"
   ]
  },
  {
   "cell_type": "code",
   "execution_count": 41,
   "metadata": {
    "id": "mbS7gyF9DemY"
   },
   "outputs": [],
   "source": [
    "def other_metrics(model, x_test, y_test, normalize=False, graph=True):\n",
    "    \"\"\"\n",
    "    Compute metrics like Classification Report, Confusion Matrix, specificity, sensitivity, precision and F1 score.\n",
    "\n",
    "    Args:\n",
    "        model (keras.Model): A Keras model instance\n",
    "        x_test (numpy.ndarray): Preprocessed genomic sequences to test the model\n",
    "        y_test (numpy.ndarray): Preprocessed classes of the x_test array\n",
    "        normalize (bool): Whether to normalize the confusion matrix\n",
    "        graph (bool): Whether to display the confusion matrix graph\n",
    "\n",
    "    Returns:\n",
    "        None\n",
    "    \"\"\"\n",
    "    labels = ['donor', 'acceptor', 'other']\n",
    "    prob_predictions = model.predict(x_test)\n",
    "    class_preds = tf.greater(prob_predictions, 0.5)\n",
    "    print('Classification Report:')\n",
    "    print(classification_report(y_test, class_preds))\n",
    "    \n",
    "    cm = confusion_matrix(y_test.argmax(axis=1), prob_predictions.argmax(axis=1), normalize='true' if normalize else None)\n",
    "    pd_cm = pd.DataFrame(cm, index=labels, columns=labels)\n",
    "\n",
    "    if graph:\n",
    "        print('\\nConfusion Matrix:')\n",
    "        plt.figure(figsize=(15, 10))\n",
    "        format = \".4f\" if normalize else \"d\"\n",
    "        g = sn.heatmap(pd_cm, annot=True, cmap=\"Blues\", fmt=format, annot_kws={\"fontsize\": 15})\n",
    "        g.set_xticklabels(g.get_xmajorticklabels(), fontsize=13)\n",
    "        g.set_yticklabels(g.get_ymajorticklabels(), fontsize=13)\n",
    "        plt.yticks(rotation=0)\n",
    "        plt.xlabel('Predicted labels')\n",
    "        plt.ylabel('True labels')\n",
    "        plt.show()\n",
    "\n",
    "    print(\"---Calculating other metrics---\")\n",
    "    fp = cm.sum(axis=0) - np.diag(cm)\n",
    "    fn = cm.sum(axis=1) - np.diag(cm)\n",
    "    tp = np.diag(cm)\n",
    "    tn = cm.sum() - (fp + fn + tp)\n",
    "\n",
    "    sensitivity = tp / (tp + fn)\n",
    "    specificity = tn / (tn + fp)\n",
    "    precision = tp / (tp + fp)\n",
    "    f1 = (2 * tp) / ((2 * tp) + fp + fn)\n",
    "\n",
    "    print(\"Specificity:\", specificity)\n",
    "    print(\"Sensitivity:\", sensitivity)\n",
    "    print(\"Precision:\", precision)\n",
    "    print(\"F1:\", f1)"
   ]
  },
  {
   "cell_type": "code",
   "execution_count": 42,
   "metadata": {
    "id": "WrQ5cb-Cyz2d"
   },
   "outputs": [],
   "source": [
    "def plot_simple_curve(x, y, x_label, y_label, general_area, plot_title):\n",
    "    \"\"\"\n",
    "    Helper function to plot performance graphs.\n",
    "\n",
    "    Args:\n",
    "        x (dict): Dictionary containing x-axis values.\n",
    "        y (dict): Dictionary containing y-axis values.\n",
    "        x_label (str): Label for x-axis.\n",
    "        y_label (str): Label for y-axis.\n",
    "        general_area (dict): Dictionary containing area values.\n",
    "        plot_title (str): Title for the plot.\n",
    "\n",
    "    Returns:\n",
    "        None\n",
    "    \"\"\"\n",
    "    plt.figure()\n",
    "    plt.step(x[\"micro\"], y[\"micro\"], where='pre')\n",
    "    plt.xlabel(x_label)\n",
    "    plt.ylabel(y_label)\n",
    "    plt.ylim([0.0, 1.05])\n",
    "    plt.xlim([0.0, 1.0])\n",
    "    plt.title(f\"{plot_title} Area={general_area['micro']:.2f}\")"
   ]
  },
  {
   "cell_type": "code",
   "execution_count": null,
   "metadata": {
    "id": "fATQCfzuzBIi"
   },
   "outputs": [],
   "source": [
    "def plot_curve_for_all_classes(x, y, x_label, y_label, general_area, plot_title, n_classes=3):\n",
    "    \"\"\"\n",
    "    Plot performance curves for all classes and a micro-average.\n",
    "\n",
    "    Args:\n",
    "        x (dict): Dictionary containing x-axis values for each class and micro-average.\n",
    "        y (dict): Dictionary containing y-axis values for each class and micro-average.\n",
    "        x_label (str): Label for x-axis.\n",
    "        y_label (str): Label for y-axis.\n",
    "        general_area (dict): Dictionary containing area values for each class and micro-average.\n",
    "        plot_title (str): Title for the plot.\n",
    "        n_classes (int): Number of classes to plot.\n",
    "\n",
    "    Returns:\n",
    "        None\n",
    "    \"\"\"\n",
    "    colors = cycle(['navy', 'turquoise', 'darkorange', 'cornflowerblue', 'teal'])\n",
    "\n",
    "    plt.figure(figsize=(7, 8))\n",
    "    lines = []\n",
    "    labels = []\n",
    "    \n",
    "    # Plot micro-average\n",
    "    l, = plt.plot(x['micro'], y['micro'], color='gold', lw=2)\n",
    "    lines.append(l)\n",
    "    labels.append(f\"{plot_title} (area = {general_area['micro']:.2f})\")\n",
    "\n",
    "    # Plot each class\n",
    "    for i, color in zip(range(n_classes), colors):\n",
    "        l, = plt.plot(x[i], y[i], color=color, lw=2)\n",
    "        lines.append(l)\n",
    "        labels.append(f\"{plot_title} for class {i} (area = {general_area[i]:.2f})\")\n",
    "\n",
    "    plt.xlim([0.0, 1.0])\n",
    "    plt.ylim([0.0, 1.05])\n",
    "    plt.xlabel(x_label)\n",
    "    plt.ylabel(y_label)\n",
    "    plt.title(f\"{plot_title} curve\")\n",
    "    plt.legend(lines, labels, loc=(0, -.38), prop=dict(size=14))\n",
    "\n",
    "    plt.tight_layout()\n",
    "    plt.show()"
   ]
  },
  {
   "cell_type": "code",
   "execution_count": 44,
   "metadata": {
    "id": "mvnwjSkqzE7o"
   },
   "outputs": [],
   "source": [
    "def roc_auc_pr(model, x_test, y_test, roc_auc=True, pr=True):\n",
    "    \"\"\"\n",
    "    This function graphs ROC and PR curves\n",
    "\n",
    "    Arguments:\n",
    "    model -- a Model() instance in Keras\n",
    "    x_test: (numpy array) preprocessed genomic sequences to test the model\n",
    "    y_test: (numpy array) preprocessed classes of the x_test numpy array\n",
    "    roc_auc: (bool) set to True to print ROC_AUC graphs\n",
    "    pr: (bool) set to True to print PR-AUC graphs\n",
    "    \"\"\"\n",
    "    \n",
    "    y_pred = model.predict(x_test)\n",
    "    n_classes = y_pred.shape[1]\n",
    "    \n",
    "    precision_dict = dict()\n",
    "    recall_dict = dict()\n",
    "    average_precision = dict()\n",
    "\n",
    "    fpr = dict()\n",
    "    tpr = dict()\n",
    "    roc_auc = dict()\n",
    "    for i in range(n_classes):\n",
    "        precision_dict[i], recall_dict[i], _ = precision_recall_curve(y_test[:,i], y_pred[:,i])\n",
    "        average_precision[i] = average_precision_score(y_test[:,i], y_pred[:,i])\n",
    "        fpr[i], tpr[i], _ = roc_curve(y_test[:,i], y_pred[:,i])\n",
    "        roc_auc[i] = roc_auc_score(y_test[:,i], y_pred[:,i])\n",
    "\n",
    "    # A \"micro-average\": quantifying score on all classes jointly\n",
    "    fpr[\"micro\"], tpr[\"micro\"], _ = roc_curve(y_test.ravel(), y_pred.ravel())\n",
    "    roc_auc[\"micro\"] = roc_auc_score(y_test, y_pred, average='micro')\n",
    "\n",
    "    precision_dict[\"micro\"], recall_dict[\"micro\"], _ = precision_recall_curve(y_test.ravel(), y_pred.ravel())\n",
    "    average_precision[\"micro\"] = average_precision_score(y_test, y_pred, average='micro')\n",
    "\n",
    "    # Graphs\n",
    "    if roc_auc:\n",
    "        plot_curve_for_all_classes(fpr, tpr, \"False Positive Rate\", \"True Positive Rate\", roc_auc, \"ROC-AUC\", n_classes=3)\n",
    "    \n",
    "    if pr:\n",
    "        plot_curve_for_all_classes(recall_dict, precision_dict, \"Recall\", \"Precision\", average_precision, \"Precision-Recall\", n_classes=3)\n",
    "\n",
    "    print('ROC AUC: ', roc_auc)\n",
    "    print('PR AUC: ', average_precision)\n",
    "\n",
    "    return average_precision, roc_auc"
   ]
  },
  {
   "cell_type": "markdown",
   "metadata": {
    "id": "KmyMatvruCWz"
   },
   "source": [
    "# Neural Network "
   ]
  },
  {
   "cell_type": "code",
   "execution_count": 45,
   "metadata": {
    "id": "J37U7YbHEW0W"
   },
   "outputs": [],
   "source": [
    "def convolutional_block(X, n, w):\n",
    "    \"\"\"\n",
    "    Applies a convolutional block to the input tensor.\n",
    "\n",
    "    Args:\n",
    "        X (tensor): Input tensor.\n",
    "        n (int): Number of convolutional filters.\n",
    "        w (int): Size of the filter.\n",
    "\n",
    "    Returns:\n",
    "        tensor: Output tensor after applying the convolutional block.\n",
    "    \"\"\"\n",
    "    for _ in range(2):\n",
    "        X = BatchNormalization()(X)\n",
    "        X = Activation('relu')(X)\n",
    "        X = Conv1D(filters=n, kernel_size=w, padding='same', kernel_regularizer=l1(1e-5))(X)\n",
    "        X = MaxPooling1D()(X)\n",
    "\n",
    "    return X"
   ]
  },
  {
   "cell_type": "code",
   "execution_count": 46,
   "metadata": {
    "id": "D7qaZtkHRGv2"
   },
   "outputs": [],
   "source": [
    "def convolutional_model(input_shape, classes=3):\n",
    "    X_input = Input(input_shape)\n",
    "    X = X_input\n",
    "\n",
    "    X = convolutional_block(X, n=16, w=11)\n",
    "    X = convolutional_block(X, n=32, w=11)\n",
    "    X = convolutional_block(X, n=64, w=21)\n",
    "    X = convolutional_block(X, n=64, w=41)\n",
    "\n",
    "    X = Dense(units=32, activation='relu')(X)\n",
    "    X = Dense(units=16, activation='relu')(X)\n",
    "    X = Flatten()(X)\n",
    "    X = Dense(units=classes, activation='softmax')(X)\n",
    "\n",
    "    model = Model(inputs=X_input, outputs=X)\n",
    "    return model"
   ]
  },
  {
   "cell_type": "code",
   "execution_count": null,
   "metadata": {},
   "outputs": [],
   "source": [
    "# Define constants\n",
    "FLANKING_LEN = 200\n",
    "INPUT_SHAPE = ((FLANKING_LEN * 2 + 1), 4)\n",
    "CLASSES = 3\n",
    "\n",
    "def lr_scheduler(epoch, lr):\n",
    "    decay_rate = 2\n",
    "    if epoch > 5:\n",
    "        return lr / decay_rate\n",
    "    return lr"
   ]
  },
  {
   "cell_type": "code",
   "execution_count": null,
   "metadata": {},
   "outputs": [],
   "source": [
    "# Initialize the model\n",
    "model = convolutional_model(input_shape=INPUT_SHAPE, classes=CLASSES)\n"
   ]
  },
  {
   "cell_type": "code",
   "execution_count": 49,
   "metadata": {
    "id": "ce8WE42EmOtn"
   },
   "outputs": [],
   "source": [
    "callbacks = [LearningRateScheduler(lr_scheduler,verbose=1)]"
   ]
  },
  {
   "cell_type": "code",
   "execution_count": 50,
   "metadata": {
    "id": "J__UjtJcPgdg"
   },
   "outputs": [
    {
     "name": "stderr",
     "output_type": "stream",
     "text": [
      "WARNING:absl:At this time, the v2.11+ optimizer `tf.keras.optimizers.Adam` runs slowly on M1/M2 Macs, please use the legacy Keras optimizer instead, located at `tf.keras.optimizers.legacy.Adam`.\n"
     ]
    }
   ],
   "source": [
    "# Compile the model\n",
    "optimizer = Adam(0.001)\n",
    "model.compile(optimizer=optimizer, loss='categorical_crossentropy', metrics=['accuracy'])"
   ]
  },
  {
   "cell_type": "code",
   "execution_count": null,
   "metadata": {},
   "outputs": [],
   "source": [
    "# Define training parameters\n",
    "n_epochs = 10\n",
    "n_batch = 32\n",
    "callbacks = [LearningRateScheduler(lr_scheduler, verbose=1)]"
   ]
  },
  {
   "cell_type": "code",
   "execution_count": 51,
   "metadata": {
    "id": "vd53PJ79XrBc"
   },
   "outputs": [],
   "source": [
    "model.compile(optimizer=optimizer,loss='categorical_crossentropy',metrics=['accuracy'])"
   ]
  },
  {
   "cell_type": "code",
   "execution_count": null,
   "metadata": {
    "colab": {
     "base_uri": "https://localhost:8080/"
    },
    "id": "MY8ryM2kZP3f",
    "outputId": "197794fd-ee5b-451a-f818-647896c7cce7"
   },
   "outputs": [],
   "source": [
    "# Train the model\n",
    "history = model.fit(\n",
    "    x=x_train, \n",
    "    y=y_train, \n",
    "    validation_data=(x_val, y_val),\n",
    "    epochs=n_epochs,\n",
    "    batch_size=n_batch,\n",
    "    callbacks=callbacks\n",
    ")"
   ]
  },
  {
   "cell_type": "code",
   "execution_count": null,
   "metadata": {
    "colab": {
     "base_uri": "https://localhost:8080/"
    },
    "id": "cB_4XLEkwKvA",
    "outputId": "ee1e964f-a4d5-4333-abc7-bbf78cbaf7a8"
   },
   "outputs": [
    {
     "name": "stdout",
     "output_type": "stream",
     "text": [
      "2539/2539 [==============================] - 12s 5ms/step - loss: 0.0544 - accuracy: 0.9898\n",
      "\n",
      "Loss = 0.054437872022390366\n",
      "Test Accuracy = 0.9898053407669067\n"
     ]
    }
   ],
   "source": [
    "# Evaluate the model\n",
    "preds = model.evaluate(x=x_test, y=y_test)\n",
    "\n",
    "print()\n",
    "print(\"Loss = \" + str(preds[0]))\n",
    "print(\"Test Accuracy = \" + str(preds[1]))"
   ]
  },
  {
   "cell_type": "code",
   "execution_count": 53,
   "metadata": {
    "colab": {
     "base_uri": "https://localhost:8080/",
     "height": 798
    },
    "id": "Ht7WCp4MsbQo",
    "outputId": "9bd93ae8-76fe-4ade-ff9b-32753be20d60"
   },
   "outputs": [
    {
     "data": {
      "image/png": "[encoded data removed]",
      "text/plain": [
       "<Figure size 800x600 with 1 Axes>"
      ]
     },
     "metadata": {},
     "output_type": "display_data"
    },
    {
     "data": {
      "image/png": "[encoded data removed]",
      "text/plain": [
       "<Figure size 800x600 with 1 Axes>"
      ]
     },
     "metadata": {},
     "output_type": "display_data"
    }
   ],
   "source": [
    "performance_graphs(n_epochs, history.history)"
   ]
  },
  {
   "cell_type": "code",
   "execution_count": null,
   "metadata": {
    "colab": {
     "base_uri": "https://localhost:8080/",
     "height": 941
    },
    "id": "RbKk5_jMHbf_",
    "outputId": "25355a3c-b64e-4b0d-ce3f-228ba2c24fe4"
   },
   "outputs": [
    {
     "name": "stdout",
     "output_type": "stream",
     "text": [
      "Classification Report: \n",
      "              precision    recall  f1-score   support\n",
      "\n",
      "           0       0.98      0.99      0.99     15725\n",
      "           1       0.99      0.99      0.99     15802\n",
      "           2       0.99      0.99      0.99     49692\n",
      "\n",
      "   micro avg       0.99      0.99      0.99     81219\n",
      "   macro avg       0.99      0.99      0.99     81219\n",
      "weighted avg       0.99      0.99      0.99     81219\n",
      " samples avg       0.99      0.99      0.99     81219\n",
      "\n",
      "\n",
      "Confusion Matrix: \n"
     ]
    },
    {
     "data": {
      "image/png": "[encoded data removed]",
      "text/plain": [
       "<Figure size 1080x720 with 2 Axes>"
      ]
     },
     "metadata": {},
     "output_type": "display_data"
    },
    {
     "name": "stdout",
     "output_type": "stream",
     "text": [
      "---Calculating other metrics ---\n",
      "Specificity:  [0.99575534 0.99691212 0.98896184]\n",
      "Sensitivity:  [0.98918919 0.9887356  0.9903405 ]\n",
      "Precision:  [0.98244174 0.98723619 0.99297821]\n",
      "F1:  [0.98580392 0.98798533 0.9916576 ]\n"
     ]
    }
   ],
   "source": [
    "other_metrics(model,x_test,y_test)"
   ]
  },
  {
   "cell_type": "code",
   "execution_count": null,
   "metadata": {
    "colab": {
     "base_uri": "https://localhost:8080/",
     "height": 941
    },
    "id": "Jsmn-1d2H8pd",
    "outputId": "082d92b5-9214-485f-992a-17bf43ef3bd6"
   },
   "outputs": [
    {
     "name": "stdout",
     "output_type": "stream",
     "text": [
      "Classification Report: \n",
      "              precision    recall  f1-score   support\n",
      "\n",
      "           0       0.98      0.99      0.99     15725\n",
      "           1       0.99      0.99      0.99     15802\n",
      "           2       0.99      0.99      0.99     49692\n",
      "\n",
      "   micro avg       0.99      0.99      0.99     81219\n",
      "   macro avg       0.99      0.99      0.99     81219\n",
      "weighted avg       0.99      0.99      0.99     81219\n",
      " samples avg       0.99      0.99      0.99     81219\n",
      "\n",
      "\n",
      "Confusion Matrix: \n"
     ]
    },
    {
     "data": {
      "image/png": "[encoded data removed]",
      "text/plain": [
       "<Figure size 1080x720 with 2 Axes>"
      ]
     },
     "metadata": {},
     "output_type": "display_data"
    },
    {
     "name": "stdout",
     "output_type": "stream",
     "text": [
      "---Calculating other metrics ---\n",
      "Specificity:  [0.99720277 0.99796748 0.9889624 ]\n",
      "Sensitivity:  [0.98918919 0.9887356  0.9903405 ]\n",
      "Precision:  [0.9943762  0.99590548 0.97819551]\n",
      "F1:  [0.99177591 0.99230759 0.98423054]\n"
     ]
    }
   ],
   "source": [
    "other_metrics(model,x_test,y_test, normalize=True)"
   ]
  },
  {
   "cell_type": "code",
   "execution_count": null,
   "metadata": {
    "colab": {
     "base_uri": "https://localhost:8080/",
     "height": 1000
    },
    "id": "1n6T7SGWzQAy",
    "outputId": "4cace4cb-7222-41fb-a3d5-dcf7ba1f5a3d"
   },
   "outputs": [
    {
     "data": {
      "image/png": "[encoded data removed]",
      "text/plain": [
       "<Figure size 432x288 with 1 Axes>"
      ]
     },
     "metadata": {},
     "output_type": "display_data"
    },
    {
     "data": {
      "image/png": "[encoded data removed]",
      "text/plain": [
       "<Figure size 504x576 with 1 Axes>"
      ]
     },
     "metadata": {},
     "output_type": "display_data"
    },
    {
     "data": {
      "image/png": "[encoded data removed]",
      "text/plain": [
       "<Figure size 432x288 with 1 Axes>"
      ]
     },
     "metadata": {},
     "output_type": "display_data"
    },
    {
     "data": {
      "image/png": "[encoded data removed]",
      "text/plain": [
       "<Figure size 504x576 with 1 Axes>"
      ]
     },
     "metadata": {},
     "output_type": "display_data"
    },
    {
     "name": "stdout",
     "output_type": "stream",
     "text": [
      "ROC AUC:  {0: 0.9991290790699988, 1: 0.999451393694123, 2: 0.9984752275686642, 'micro': 0.9992203438551738}\n",
      "PR AUC:  {0: 0.9960868719019345, 1: 0.9978504744279614, 2: 0.9989516958670915, 'micro': 0.9984034135565588}\n"
     ]
    },
    {
     "data": {
      "text/plain": [
       "({0: 0.9960868719019345,\n",
       "  1: 0.9978504744279614,\n",
       "  2: 0.9989516958670915,\n",
       "  'micro': 0.9984034135565588},\n",
       " {0: 0.9991290790699988,\n",
       "  1: 0.999451393694123,\n",
       "  2: 0.9984752275686642,\n",
       "  'micro': 0.9992203438551738})"
      ]
     },
     "execution_count": 37,
     "metadata": {},
     "output_type": "execute_result"
    }
   ],
   "source": [
    "roc_auc_pr(model, x_test, y_test)"
   ]
  },
  {
   "cell_type": "code",
   "execution_count": null,
   "metadata": {
    "colab": {
     "base_uri": "https://localhost:8080/"
    },
    "id": "6hT_Z94Ag7qr",
    "outputId": "118f6d14-72f9-4a11-dc0f-abf78fb1a7ac"
   },
   "outputs": [
    {
     "name": "stdout",
     "output_type": "stream",
     "text": [
      "Model: \"model\"\n",
      "_________________________________________________________________\n",
      " Layer (type)                Output Shape              Param #   \n",
      "=================================================================\n",
      " input_1 (InputLayer)        [(None, 401, 4)]          0         \n",
      "                                                                 \n",
      " batch_normalization (BatchN  (None, 401, 4)           16        \n",
      " ormalization)                                                   \n",
      "                                                                 \n",
      " activation (Activation)     (None, 401, 4)            0         \n",
      "                                                                 \n",
      " conv1d (Conv1D)             (None, 401, 16)           720       \n",
      "                                                                 \n",
      " max_pooling1d (MaxPooling1D  (None, 200, 16)          0         \n",
      " )                                                               \n",
      "                                                                 \n",
      " batch_normalization_1 (Batc  (None, 200, 16)          64        \n",
      " hNormalization)                                                 \n",
      "                                                                 \n",
      " activation_1 (Activation)   (None, 200, 16)           0         \n",
      "                                                                 \n",
      " conv1d_1 (Conv1D)           (None, 200, 16)           2832      \n",
      "                                                                 \n",
      " max_pooling1d_1 (MaxPooling  (None, 100, 16)          0         \n",
      " 1D)                                                             \n",
      "                                                                 \n",
      " batch_normalization_2 (Batc  (None, 100, 16)          64        \n",
      " hNormalization)                                                 \n",
      "                                                                 \n",
      " activation_2 (Activation)   (None, 100, 16)           0         \n",
      "                                                                 \n",
      " conv1d_2 (Conv1D)           (None, 100, 32)           5664      \n",
      "                                                                 \n",
      " max_pooling1d_2 (MaxPooling  (None, 50, 32)           0         \n",
      " 1D)                                                             \n",
      "                                                                 \n",
      " batch_normalization_3 (Batc  (None, 50, 32)           128       \n",
      " hNormalization)                                                 \n",
      "                                                                 \n",
      " activation_3 (Activation)   (None, 50, 32)            0         \n",
      "                                                                 \n",
      " conv1d_3 (Conv1D)           (None, 50, 32)            11296     \n",
      "                                                                 \n",
      " max_pooling1d_3 (MaxPooling  (None, 25, 32)           0         \n",
      " 1D)                                                             \n",
      "                                                                 \n",
      " batch_normalization_4 (Batc  (None, 25, 32)           128       \n",
      " hNormalization)                                                 \n",
      "                                                                 \n",
      " activation_4 (Activation)   (None, 25, 32)            0         \n",
      "                                                                 \n",
      " conv1d_4 (Conv1D)           (None, 25, 64)            43072     \n",
      "                                                                 \n",
      " max_pooling1d_4 (MaxPooling  (None, 12, 64)           0         \n",
      " 1D)                                                             \n",
      "                                                                 \n",
      " batch_normalization_5 (Batc  (None, 12, 64)           256       \n",
      " hNormalization)                                                 \n",
      "                                                                 \n",
      " activation_5 (Activation)   (None, 12, 64)            0         \n",
      "                                                                 \n",
      " conv1d_5 (Conv1D)           (None, 12, 64)            86080     \n",
      "                                                                 \n",
      " max_pooling1d_5 (MaxPooling  (None, 6, 64)            0         \n",
      " 1D)                                                             \n",
      "                                                                 \n",
      " batch_normalization_6 (Batc  (None, 6, 64)            256       \n",
      " hNormalization)                                                 \n",
      "                                                                 \n",
      " activation_6 (Activation)   (None, 6, 64)             0         \n",
      "                                                                 \n",
      " conv1d_6 (Conv1D)           (None, 6, 64)             168000    \n",
      "                                                                 \n",
      " max_pooling1d_6 (MaxPooling  (None, 3, 64)            0         \n",
      " 1D)                                                             \n",
      "                                                                 \n",
      " batch_normalization_7 (Batc  (None, 3, 64)            256       \n",
      " hNormalization)                                                 \n",
      "                                                                 \n",
      " activation_7 (Activation)   (None, 3, 64)             0         \n",
      "                                                                 \n",
      " conv1d_7 (Conv1D)           (None, 3, 64)             168000    \n",
      "                                                                 \n",
      " max_pooling1d_7 (MaxPooling  (None, 1, 64)            0         \n",
      " 1D)                                                             \n",
      "                                                                 \n",
      " dense (Dense)               (None, 1, 32)             2080      \n",
      "                                                                 \n",
      " dense_1 (Dense)             (None, 1, 16)             528       \n",
      "                                                                 \n",
      " flatten (Flatten)           (None, 16)                0         \n",
      "                                                                 \n",
      " dense_2 (Dense)             (None, 3)                 51        \n",
      "                                                                 \n",
      "=================================================================\n",
      "Total params: 489,491\n",
      "Trainable params: 488,907\n",
      "Non-trainable params: 584\n",
      "_________________________________________________________________\n"
     ]
    }
   ],
   "source": [
    "model.summary()"
   ]
  },
  {
   "cell_type": "markdown",
   "metadata": {
    "id": "xK9SCfcCppxF"
   },
   "source": [
    "# Testing model with other species genome"
   ]
  },
  {
   "cell_type": "code",
   "execution_count": 10,
   "metadata": {
    "colab": {
     "base_uri": "https://localhost:8080/"
    },
    "id": "ykFnS-IypzN_",
    "outputId": "f373cd86-764c-43a6-eeb0-53a8bf644c2a"
   },
   "outputs": [],
   "source": [
    "os.chdir(\"../other_species/\")"
   ]
  },
  {
   "cell_type": "code",
   "execution_count": 11,
   "metadata": {
    "id": "5unocBTzp1_2"
   },
   "outputs": [],
   "source": [
    "def get_np_array_species(flanking_len, species_name):\n",
    "    \"\"\"\n",
    "    Get genomic sequences from other_species directory to test the model.\n",
    "\n",
    "    Args:\n",
    "        flanking_len (int): Number of nucleotides on each side of a nucleotide of interest.\n",
    "        species_name (str): Name of the species to retrieve genomic sequence files.\n",
    "\n",
    "    Returns:\n",
    "        tuple: Numpy arrays of one-hot encoded sequences and corresponding labels.\n",
    "    \"\"\"\n",
    "    arr_seqs = []\n",
    "    y_arr = []\n",
    "    for type_seq in ['donor', 'acceptor', 'other']:\n",
    "        file_name = f\"{species_name}_{type_seq}_seqs_flank_{flanking_len}.txt\"\n",
    "        with open(file_name, 'r') as file:\n",
    "            for line in file:\n",
    "                if line.startswith(\">>\"):\n",
    "                    seq = line[2:].strip()\n",
    "                    one_hot_seq = one_hot_encode(seq)\n",
    "                    arr_seqs.append(one_hot_seq)\n",
    "                    y_arr.append({'donor': 0, 'acceptor': 1, 'other': 2}[type_seq])\n",
    "\n",
    "    return np.array(arr_seqs), np.array(y_arr)"
   ]
  },
  {
   "cell_type": "markdown",
   "metadata": {
    "id": "d3UyYlNXp5EH"
   },
   "source": [
    "### Mus musculus"
   ]
  },
  {
   "cell_type": "code",
   "execution_count": null,
   "metadata": {
    "colab": {
     "base_uri": "https://localhost:8080/"
    },
    "id": "QUJjE01zp4Yw",
    "outputId": "040ae6aa-a19f-4163-b028-b78f64b45911"
   },
   "outputs": [
    {
     "name": "stderr",
     "output_type": "stream",
     "text": [
      "/usr/local/lib/python3.7/dist-packages/ipykernel_launcher.py:18: DeprecationWarning: The binary mode of fromstring is deprecated, as it behaves surprisingly on unicode inputs. Use frombuffer instead\n"
     ]
    },
    {
     "name": "stdout",
     "output_type": "stream",
     "text": [
      "(27580, 401, 4)\n",
      "(27580, 3)\n",
      "862/862 [==============================] - 5s 5ms/step - loss: 0.0320 - accuracy: 0.9949\n",
      "\n",
      "Loss = 0.03199637681245804\n",
      "Test Accuracy = 0.9949238300323486\n",
      "Classification Report: \n",
      "              precision    recall  f1-score   support\n",
      "\n",
      "           0       0.99      1.00      1.00      6700\n",
      "           1       0.99      1.00      0.99      6700\n",
      "           2       1.00      0.99      1.00     14180\n",
      "\n",
      "   micro avg       0.99      0.99      0.99     27580\n",
      "   macro avg       0.99      1.00      0.99     27580\n",
      "weighted avg       0.99      0.99      0.99     27580\n",
      " samples avg       0.99      0.99      0.99     27580\n",
      "\n",
      "---Calculating other metrics ---\n",
      "Specificity:  [0.99808429 0.99712644 0.99701493]\n",
      "Sensitivity:  [0.99701493 0.99701493 0.99294781]\n",
      "Precision:  [0.99404762 0.99109792 0.99716714]\n",
      "F1:  [0.99552906 0.99404762 0.995053  ]\n"
     ]
    }
   ],
   "source": [
    "# Get data for Mus musculus\n",
    "mus_musc_x, mus_musc_y = get_np_array_species(flanking_len=FLANKING_LEN, species_name=\"mus_musculus\")\n",
    "mus_musc_y = tf.keras.utils.to_categorical(mus_musc_y)\n",
    "\n",
    "print(f\"Input shape: {mus_musc_x.shape}\")\n",
    "print(f\"Output shape: {mus_musc_y.shape}\")\n",
    "\n",
    "# Evaluate the model\n",
    "loss, accuracy = model.evaluate(mus_musc_x, mus_musc_y, verbose=0)\n",
    "\n",
    "print(f\"Loss: {loss:.4f}\")\n",
    "print(f\"Test Accuracy: {accuracy:.4f}\")\n",
    "\n",
    "# Calculate additional metrics\n",
    "other_metrics(model, mus_musc_x, mus_musc_y, normalize=False, graph=False)"
   ]
  },
  {
   "cell_type": "markdown",
   "metadata": {
    "id": "1IlYke7hqQU3"
   },
   "source": [
    "### Danio rerio"
   ]
  },
  {
   "cell_type": "code",
   "execution_count": null,
   "metadata": {
    "colab": {
     "base_uri": "https://localhost:8080/"
    },
    "id": "gPLWfhCDqUc_",
    "outputId": "919fc9e0-5a46-419e-9691-b10748892f04"
   },
   "outputs": [
    {
     "name": "stderr",
     "output_type": "stream",
     "text": [
      "/usr/local/lib/python3.7/dist-packages/ipykernel_launcher.py:18: DeprecationWarning: The binary mode of fromstring is deprecated, as it behaves surprisingly on unicode inputs. Use frombuffer instead\n"
     ]
    },
    {
     "name": "stdout",
     "output_type": "stream",
     "text": [
      "(14700, 401, 4)\n",
      "(14700, 3)\n",
      "460/460 [==============================] - 2s 5ms/step - loss: 0.0873 - accuracy: 0.9891\n",
      "\n",
      "Loss = 0.08733407407999039\n",
      "Test Accuracy = 0.9891156554222107\n",
      "Classification Report: \n",
      "              precision    recall  f1-score   support\n",
      "\n",
      "           0       0.99      0.98      0.99      3560\n",
      "           1       0.99      0.99      0.99      3560\n",
      "           2       0.99      0.99      0.99      7580\n",
      "\n",
      "   micro avg       0.99      0.99      0.99     14700\n",
      "   macro avg       0.99      0.99      0.99     14700\n",
      "weighted avg       0.99      0.99      0.99     14700\n",
      " samples avg       0.99      0.99      0.99     14700\n",
      "\n",
      "---Calculating other metrics ---\n",
      "Specificity:  [0.99640934 0.99820467 0.98595506]\n",
      "Sensitivity:  [0.98314607 0.98876404 0.99208443]\n",
      "Precision:  [0.98870056 0.99435028 0.98687664]\n",
      "F1:  [0.98591549 0.9915493  0.98947368]\n"
     ]
    }
   ],
   "source": [
    "d_rerio_x, d_rerio_y = get_np_array_species(flanking_len=FLANKING_LEN, species_name=\"danio_rerio\")\n",
    "d_rerio_y = tf.keras.utils.to_categorical(d_rerio_y)\n",
    "print(d_rerio_x.shape)\n",
    "print(d_rerio_y.shape)\n",
    "# Evaluate the model\n",
    "preds = model.evaluate(x = d_rerio_x, y = d_rerio_y)\n",
    "\n",
    "print()\n",
    "print (\"Loss = \" + str(preds[0]))\n",
    "print (\"Test Accuracy = \" + str(preds[1]))\n",
    "\n",
    "other_metrics(model,d_rerio_x , d_rerio_y, normalize=False, graph=False)"
   ]
  },
  {
   "cell_type": "markdown",
   "metadata": {
    "id": "2xTVIssKqdiW"
   },
   "source": [
    "### Drosophila melanogaster"
   ]
  },
  {
   "cell_type": "code",
   "execution_count": null,
   "metadata": {
    "colab": {
     "base_uri": "https://localhost:8080/"
    },
    "id": "TNi8aTK7qpM9",
    "outputId": "1259f2b5-c155-4227-ee9f-d21c892998aa"
   },
   "outputs": [
    {
     "name": "stderr",
     "output_type": "stream",
     "text": [
      "/usr/local/lib/python3.7/dist-packages/ipykernel_launcher.py:18: DeprecationWarning: The binary mode of fromstring is deprecated, as it behaves surprisingly on unicode inputs. Use frombuffer instead\n"
     ]
    },
    {
     "name": "stdout",
     "output_type": "stream",
     "text": [
      "(2560, 401, 4)\n",
      "(2560, 3)\n",
      "80/80 [==============================] - 1s 4ms/step - loss: 0.2042 - accuracy: 0.9609\n",
      "\n",
      "Loss = 0.20424461364746094\n",
      "Test Accuracy = 0.9609375\n",
      "Classification Report: \n",
      "              precision    recall  f1-score   support\n",
      "\n",
      "           0       1.00      0.90      0.95       580\n",
      "           1       1.00      0.93      0.96       580\n",
      "           2       0.93      1.00      0.97      1400\n",
      "\n",
      "   micro avg       0.96      0.96      0.96      2560\n",
      "   macro avg       0.98      0.94      0.96      2560\n",
      "weighted avg       0.96      0.96      0.96      2560\n",
      " samples avg       0.96      0.96      0.96      2560\n",
      "\n",
      "---Calculating other metrics ---\n",
      "Specificity:  [1.        1.        0.9137931]\n",
      "Sensitivity:  [0.89655172 0.93103448 1.        ]\n",
      "Precision:  [1.         1.         0.93333333]\n",
      "F1:  [0.94545455 0.96428571 0.96551724]\n"
     ]
    }
   ],
   "source": [
    "d_mela_x, d_mela_y = get_np_array_species(flanking_len=FLANKING_LEN, species_name=\"drosophila_melanogaster\")\n",
    "d_mela_y = tf.keras.utils.to_categorical(d_mela_y)\n",
    "print(d_mela_x.shape)\n",
    "print(d_mela_y.shape)\n",
    "#4. Evaluate the model\n",
    "preds = model.evaluate(x = d_mela_x, y = d_mela_y)\n",
    "\n",
    "print()\n",
    "print (\"Loss = \" + str(preds[0]))\n",
    "print (\"Test Accuracy = \" + str(preds[1]))\n",
    "\n",
    "other_metrics(model,d_mela_x , d_mela_y, normalize=False, graph=False)"
   ]
  },
  {
   "cell_type": "markdown",
   "metadata": {
    "id": "lyfL5ujZqsfv"
   },
   "source": [
    "### Arabidopsis thaliana"
   ]
  },
  {
   "cell_type": "code",
   "execution_count": null,
   "metadata": {
    "colab": {
     "base_uri": "https://localhost:8080/"
    },
    "id": "aaS-5c5tqyFh",
    "outputId": "5e7ca50e-7e23-4771-94bc-e1b869668cee"
   },
   "outputs": [
    {
     "name": "stderr",
     "output_type": "stream",
     "text": [
      "/usr/local/lib/python3.7/dist-packages/ipykernel_launcher.py:18: DeprecationWarning: The binary mode of fromstring is deprecated, as it behaves surprisingly on unicode inputs. Use frombuffer instead\n"
     ]
    },
    {
     "name": "stdout",
     "output_type": "stream",
     "text": [
      "(14700, 401, 4)\n",
      "(17760, 3)\n",
      "555/555 [==============================] - 2s 4ms/step - loss: 0.1409 - accuracy: 0.9550\n",
      "\n",
      "Loss = 0.14091461896896362\n",
      "Test Accuracy = 0.954954981803894\n",
      "Classification Report: \n",
      "              precision    recall  f1-score   support\n",
      "\n",
      "           0       0.99      0.93      0.96      4300\n",
      "           1       0.99      0.90      0.94      4300\n",
      "           2       0.93      0.99      0.96      9160\n",
      "\n",
      "   micro avg       0.95      0.95      0.95     17760\n",
      "   macro avg       0.97      0.94      0.95     17760\n",
      "weighted avg       0.96      0.95      0.95     17760\n",
      " samples avg       0.95      0.95      0.95     17760\n",
      "\n",
      "---Calculating other metrics ---\n",
      "Specificity:  [0.99554235 0.99702823 0.91860465]\n",
      "Sensitivity:  [0.93488372 0.90232558 0.98908297]\n",
      "Precision:  [0.98529412 0.98979592 0.92827869]\n",
      "F1:  [0.95942721 0.94403893 0.9577167 ]\n"
     ]
    }
   ],
   "source": [
    "a_th_x, a_th_y = get_np_array_species(flanking_len=FLANKING_LEN, species_name=\"arabidopsis_thaliana\")\n",
    "a_th_y = tf.keras.utils.to_categorical(a_th_y)\n",
    "print(d_rerio_x.shape)\n",
    "print(a_th_y.shape)\n",
    "#4. Evaluate the model\n",
    "preds = model.evaluate(x = a_th_x, y = a_th_y)\n",
    "\n",
    "print()\n",
    "print (\"Loss = \" + str(preds[0]))\n",
    "print (\"Test Accuracy = \" + str(preds[1]))\n",
    "\n",
    "other_metrics(model,a_th_x , a_th_y, normalize=False, graph=False)"
   ]
  },
  {
   "cell_type": "markdown",
   "metadata": {
    "id": "FNIrt7Azq0aL"
   },
   "source": [
    "### C.elegans"
   ]
  },
  {
   "cell_type": "code",
   "execution_count": null,
   "metadata": {
    "colab": {
     "base_uri": "https://localhost:8080/"
    },
    "id": "KZs_UKN2q_tC",
    "outputId": "96dc9ce9-4291-4a5c-d86b-c2bae7eb2895"
   },
   "outputs": [
    {
     "name": "stderr",
     "output_type": "stream",
     "text": [
      "/usr/local/lib/python3.7/dist-packages/ipykernel_launcher.py:18: DeprecationWarning: The binary mode of fromstring is deprecated, as it behaves surprisingly on unicode inputs. Use frombuffer instead\n"
     ]
    },
    {
     "name": "stdout",
     "output_type": "stream",
     "text": [
      "(13900, 401, 4)\n",
      "(13900, 3)\n",
      "435/435 [==============================] - 2s 5ms/step - loss: 0.1883 - accuracy: 0.9324\n",
      "\n",
      "Loss = 0.18826518952846527\n",
      "Test Accuracy = 0.932374119758606\n",
      "Classification Report: \n",
      "              precision    recall  f1-score   support\n",
      "\n",
      "           0       1.00      0.84      0.91      3360\n",
      "           1       0.99      0.89      0.94      3360\n",
      "           2       0.89      1.00      0.94      7180\n",
      "\n",
      "   micro avg       0.93      0.93      0.93     13900\n",
      "   macro avg       0.96      0.91      0.93     13900\n",
      "weighted avg       0.94      0.93      0.93     13900\n",
      " samples avg       0.93      0.93      0.93     13900\n",
      "\n",
      "---Calculating other metrics ---\n",
      "Specificity:  [1.         0.99810247 0.86309524]\n",
      "Sensitivity:  [0.83928571 0.88690476 0.99721448]\n",
      "Precision:  [1.         0.99333333 0.88613861]\n",
      "F1:  [0.91262136 0.93710692 0.93840105]\n"
     ]
    }
   ],
   "source": [
    "c_ele_x, c_ele_y = get_np_array_species(flanking_len=FLANKING_LEN, species_name=\"C.elegans\")\n",
    "c_ele_y = tf.keras.utils.to_categorical(c_ele_y)\n",
    "print(c_ele_x.shape)\n",
    "print(c_ele_y.shape)\n",
    "#4. Evaluate the model\n",
    "preds = model.evaluate(x = c_ele_x, y = c_ele_y)\n",
    "\n",
    "print()\n",
    "print (\"Loss = \" + str(preds[0]))\n",
    "print (\"Test Accuracy = \" + str(preds[1]))\n",
    "\n",
    "other_metrics(model,c_ele_x , c_ele_y, normalize=False, graph=False)"
   ]
  },
  {
   "cell_type": "markdown",
   "metadata": {
    "id": "74-DpVd8fJEd"
   },
   "source": [
    "# Predicting on individual genomic sequences"
   ]
  },
  {
   "cell_type": "markdown",
   "metadata": {
    "id": "k7DR-VPKP83L"
   },
   "source": [
    "### Prediction Functions"
   ]
  },
  {
   "cell_type": "code",
   "execution_count": null,
   "metadata": {
    "id": "2pRT20i9o3Al"
   },
   "outputs": [],
   "source": [
    "def get_gene_position_prediction(indexes_prediction, gene_info, donor=True,topk=True):\n",
    "  \"\"\"\n",
    "  This function returns a dictionary in which the keys are the string positions and the \n",
    "  values are the position in which the predicition from the prediction model is. \n",
    "  \"\"\"\n",
    "  prediction_positions = {}\n",
    "  positions_of_interest = set()\n",
    "  donor_indexes = set()\n",
    "  acceptor_indexes = set()\n",
    "  topk_dict= {}\n",
    "\n",
    "  for gene_info_tuple in gene_info:\n",
    "    found = False\n",
    "    str_position = gene_info_tuple[0] if donor else gene_info_tuple[1]\n",
    "    donor_indexes.add(gene_info_tuple[0])\n",
    "    acceptor_indexes.add(gene_info_tuple[1])\n",
    "    positions_of_interest.add(str_position)\n",
    "    for i in range(len(indexes_prediction)):\n",
    "      curr_position = indexes_prediction[i][0]\n",
    "      if curr_position == str_position:\n",
    "        prediction_positions[str_position] = i\n",
    "        found = True\n",
    "        break;\n",
    "    if not found: prediction_positions[str_position] = \"Not found\"\n",
    "  \n",
    "  if topk:\n",
    "    n = len(prediction_positions) # prediction poistions is the dictionary where we have the positions of each prediction\n",
    "    no_predictions = len(indexes_prediction)\n",
    "    n_top10 = math.floor(no_predictions * 0.1)\n",
    "    n_top25 = math.floor(no_predictions * 0.25)\n",
    "    n_top50 = math.floor(no_predictions * 0.5)\n",
    "    n_top65 = math.floor(no_predictions * 0.65)\n",
    "    n_top75 = math.floor(no_predictions * 0.75)\n",
    "    n_top85 = math.floor(no_predictions * 0.85)\n",
    "    n_top95 = math.floor(no_predictions * 0.95)\n",
    "\n",
    "    counter = 0\n",
    "    counter_top10 = 0 \n",
    "    counter_top25 = 0\n",
    "    counter_top50 = 0\n",
    "    counter_top65 = 0\n",
    "    counter_top75 = 0\n",
    "    counter_top85 = 0\n",
    "    counter_top95 = 0\n",
    "\n",
    "    for k in prediction_positions:\n",
    "      pred = prediction_positions[k]\n",
    "      if type(pred) != str and  pred < n:\n",
    "        counter += 1\n",
    "      if type(pred) != str and  pred < n_top10:\n",
    "        counter_top10 += 1\n",
    "      if type(pred) != str and  pred < n_top25:\n",
    "        counter_top25 += 1\n",
    "      if type(pred) != str and  pred < n_top50:\n",
    "        counter_top50 += 1\n",
    "      if type(pred) != str and  pred < n_top65:\n",
    "        counter_top65 += 1\n",
    "      if type(pred) != str and  pred < n_top75:\n",
    "        counter_top75 += 1\n",
    "      if type(pred) != str and  pred < n_top85:\n",
    "        counter_top85 += 1\n",
    "      if type(pred) != str and  pred < n_top95:\n",
    "        counter_top95 += 1\n",
    "    \n",
    "    try:\n",
    "      topk_dict[\"top-k\"] = round(counter/n,2)\n",
    "      topk_dict[\"top-10%\"] = round(counter_top10/n,2)\n",
    "      topk_dict[\"top-25%\"] = round(counter_top25/n,2)\n",
    "      topk_dict[\"top-50%\"] = round(counter_top50/n,2)\n",
    "      topk_dict[\"top-65%\"] = round(counter_top65/n,2)\n",
    "      topk_dict[\"top-75%\"] = round(counter_top75/n,2)\n",
    "      topk_dict[\"top-85%\"] = round(counter_top85/n,2)\n",
    "      topk_dict[\"top-95%\"] = round(counter_top95/n,2)\n",
    "    except:\n",
    "      pass\n",
    "\n",
    "  return prediction_positions, topk_dict"
   ]
  },
  {
   "cell_type": "code",
   "execution_count": null,
   "metadata": {
    "id": "n9hLTYtBENcH"
   },
   "outputs": [],
   "source": [
    "def get_intron_delimitation(id, flanking_len=5000, return_strand=False):\n",
    "  info_json = ensRest.getLookupById(id=id,expand=True)\n",
    "  gene_info = []\n",
    "  strand = info_json['strand']\n",
    "  gene_start = info_json['start']\n",
    "  gene_end = info_json['end']\n",
    "  try:\n",
    "    exons = info_json['Exon']\n",
    "  except: #A.thaliana's genes\n",
    "    exons = info_json['Transcript'][0]['Exon']\n",
    "  exons_list = []\n",
    "  introns_list = []\n",
    "  for exon in exons:\n",
    "    if strand == 1:\n",
    "      exons_list.append((exon['start'], exon['end']))\n",
    "    else:\n",
    "      exons_list.append((exon['end'],exon['start']))\n",
    "  for i in range(len(exons_list)-1):\n",
    "    if strand == 1:\n",
    "      intron_start = exons_list[i][1] + 1\n",
    "      intron_end = exons_list[i+1][0] - 1\n",
    "    else:\n",
    "      intron_start = exons_list[i][1] - 1\n",
    "      intron_end = exons_list[i+1][0] + 1 \n",
    "    introns_list.append((intron_start,intron_end))\n",
    "\n",
    "  for intron in introns_list:\n",
    "    gene_info.append(getting_seq_indexes(gene_start, gene_end, intron[0], intron[1], strand, flanking_len=flanking_len))\n",
    "\n",
    "  print(\"Intron positions on string: \", gene_info)\n",
    "  if return_strand:\n",
    "    return gene_info, strand\n",
    "  else:\n",
    "    return gene_info\n",
    "\n",
    "\n"
   ]
  },
  {
   "cell_type": "code",
   "execution_count": null,
   "metadata": {
    "id": "0Y0LksZIFrGT"
   },
   "outputs": [],
   "source": [
    "def getting_seq_indexes(gene_start, gene_end, seq_start, seq_end, strand, flanking_len=5000):\n",
    "\n",
    "    first_index = 0\n",
    "    second_index = 0\n",
    "    if strand == 1:\n",
    "        gene_start -= flanking_len \n",
    "        first_index = seq_start - gene_start\n",
    "        second_index = seq_end - gene_start\n",
    "    elif strand == -1:\n",
    "        gene_end += flanking_len\n",
    "        second_index = gene_end - seq_start\n",
    "        first_index = gene_end - seq_end\n",
    "    return (first_index, second_index)"
   ]
  },
  {
   "cell_type": "code",
   "execution_count": null,
   "metadata": {
    "id": "Xhz8Tqw2AZw3"
   },
   "outputs": [],
   "source": [
    "def transform_sequence_4_prediction(seq, flanking_length=FLANKING_LEN):\n",
    "  arr_seqs = []\n",
    "  n = len(seq)\n",
    "  if n < (flanking_length * 2):\n",
    "    print(\"Flanking length: \", flanking_length)\n",
    "    for i in range(n):\n",
    "      new_numpy = None\n",
    "      if i <= flanking_length:\n",
    "        curr_seq = seq[:i+flanking_length + 1]\n",
    "        one_hot_seq = one_hot_encode(curr_seq)\n",
    "        # zeros at the front\n",
    "        np_zeros_front = np.zeros((flanking_length-i,4))\n",
    "        n_curr_seq = len(curr_seq)\n",
    "        #if n_curr_seq <= flanking_length:\n",
    "        # zeros at the back\n",
    "        extra = flanking_length - (n_curr_seq - (i+1))\n",
    "        np_zeros_back = np.zeros((extra,4))\n",
    "        new_numpy = np.concatenate((np_zeros_front,one_hot_seq,np_zeros_back))\n",
    "      else:\n",
    "        curr_seq = seq[i-flanking_length:]\n",
    "        one_hot_seq = one_hot_encode(curr_seq)\n",
    "        n_curr_seq = len(curr_seq)\n",
    "        extra = (2* flanking_length + 1) - n_curr_seq\n",
    "        np_zeros_back = np.zeros((extra,4))\n",
    "        new_numpy = np.concatenate((one_hot_seq,np_zeros_back))\n",
    "          \n",
    "      arr_seqs.append(new_numpy)\n",
    "    np_arr_seqs = np.asarray(arr_seqs)\n",
    "    return np_arr_seqs\n",
    "  else:\n",
    "    for i in range(n):\n",
    "      new_numpy = None\n",
    "      if i >= flanking_length and i < (n-flanking_length):\n",
    "        curr_seq = seq[i-flanking_length:i+flanking_length +1]\n",
    "        new_numpy = one_hot_encode(curr_seq)\n",
    "        # print(i, \" :\",one_hot_seq.shape)\n",
    "      elif i < flanking_length:\n",
    "        curr_seq = seq[:i+flanking_length + 1]\n",
    "        one_hot_seq = one_hot_encode(curr_seq)\n",
    "        # print(i, \" :\",one_hot_seq.shape)\n",
    "        np_zeros = np.zeros((flanking_length-i,4))\n",
    "        new_numpy = np.concatenate((np_zeros,one_hot_seq))\n",
    "        # print(i, \" :\",new_numpy.shape)\n",
    "      elif i >= n-flanking_length:\n",
    "        curr_seq = seq[i-flanking_length:]\n",
    "        one_hot_seq = one_hot_encode(curr_seq)\n",
    "        np_zeros = np.zeros(((2*flanking_length+1)-len(curr_seq),4))\n",
    "        new_numpy = np.concatenate((one_hot_seq, np_zeros))\n",
    "        #print(i, \" :\", new_numpy.shape)\n",
    "      arr_seqs.append(new_numpy)\n",
    "    np_arr_seqs = np.asarray(arr_seqs)\n",
    "    return np_arr_seqs"
   ]
  },
  {
   "cell_type": "code",
   "execution_count": null,
   "metadata": {
    "id": "-IEFA7a2gTot"
   },
   "outputs": [],
   "source": [
    "def testing_transcripts(transcript_id, model=model, return_arr=False):\n",
    "  seq_download = ensRest.getSequenceById(id=transcript_id,expand_5prime=5000, expand_3prime=5000)\n",
    "  seq_str = seq_download[\"seq\"]\n",
    "  seq_np_arr = transform_sequence_4_prediction(seq_str)\n",
    "  #gene_info = get_gene_info(intron_file)\n",
    "  gene_info, strand = get_intron_delimitation(transcript_id, return_strand=True)\n",
    "  predictions_seq = model.predict(seq_np_arr)\n",
    "  arr_0, arr_1,arr2 = sorting_predictions(predictions_seq)\n",
    "  if strand == -1: \n",
    "    print(\"Intron position predicted by the model: \", get_gene_position_prediction(arr_0, gene_info, donor=False))\n",
    "    print(\"Intron position predicted by the model: \", get_gene_position_prediction(arr_1, gene_info))\n",
    "  else:\n",
    "    print(\"Intron position predicted by the model: \", get_gene_position_prediction(arr_0, gene_info))\n",
    "    print(\"Intron position predicted by the model: \", get_gene_position_prediction(arr_1, gene_info, donor=False))\n",
    "  if len(gene_info) == 0:\n",
    "    print(\"No introns were found on Ensembl transcript id: \", transcript_id)\n",
    "    if not return_arr:\n",
    "      print(\"Predictions made by Deep Splicer: \", arr_0, arr_1)\n",
    "  \n",
    "  if return_arr:\n",
    "    return arr_0, arr_1"
   ]
  },
  {
   "cell_type": "code",
   "execution_count": null,
   "metadata": {
    "id": "cI6G66cfRboL"
   },
   "outputs": [],
   "source": [
    "def sorting_predictions(predictions):\n",
    "  \"\"\"\n",
    "  This function returns three arrays, one corresponding to donor, acceptor and other sequences.\n",
    "  Each element of the array is composed of a tuple of three elements. Each element of the tuple represents:\n",
    "  1. the string index position of the sequence.\n",
    "  2.Probability it scored on the te prediction model (0-1)\n",
    "  3. Which type of position it is\n",
    "  \"\"\"\n",
    "  predictions_summary = predictions.argmax(axis=1)\n",
    "  unique, counts = np.unique(predictions_summary,return_counts=True)\n",
    "  print(\"Number of sequences predicted per index (donor, acceptor,other): \", counts)\n",
    "  max_preds = [(i,max(predictions[i]),predictions[i].argmax()) for i in range(len(predictions))]\n",
    "  arr_0 = [pred for pred in max_preds if pred[2]== 0]\n",
    "  arr_1 = [pred for pred in max_preds if pred[2]== 1]\n",
    "  arr_2 = [pred for pred in max_preds if pred[2]== 2]\n",
    "\n",
    "  sort_arr_0 = sorted(arr_0,reverse=True,key= lambda tup: tup[1])\n",
    "  sort_arr_1 = sorted(arr_1,reverse=True,key= lambda tup: tup[1])\n",
    "  sort_arr_2 = sorted(arr_2,reverse=True,key= lambda tup: tup[1])\n",
    "  return sort_arr_0, sort_arr_1, sort_arr_2\n",
    " "
   ]
  },
  {
   "cell_type": "markdown",
   "metadata": {
    "id": "phiA7DE4RULb"
   },
   "source": [
    "## Homo sapiens"
   ]
  },
  {
   "cell_type": "code",
   "execution_count": null,
   "metadata": {
    "colab": {
     "base_uri": "https://localhost:8080/"
    },
    "id": "iECv3X-AI3hX",
    "outputId": "531fb41a-397b-465c-9a82-17f680594385"
   },
   "outputs": [
    {
     "name": "stderr",
     "output_type": "stream",
     "text": [
      "/usr/local/lib/python3.7/dist-packages/ipykernel_launcher.py:18: DeprecationWarning: The binary mode of fromstring is deprecated, as it behaves surprisingly on unicode inputs. Use frombuffer instead\n"
     ]
    },
    {
     "name": "stdout",
     "output_type": "stream",
     "text": [
      "Intron positions on string:  [(5110, 45127), (45165, 51295), (51395, 54439), (54529, 60286), (60357, 61663), (61762, 62134), (62259, 64779), (64837, 65044)]\n",
      "Number of sequences predicted per index (donor, acceptor,other):  [  101   127 70017]\n",
      "Intron position predicted by the model:  ({5110: 3, 45165: 5, 51395: 2, 54529: 6, 60357: 4, 61762: 9, 62259: 0, 64837: 1}, {'top-k': 0.88, 'top-10%': 1.0, 'top-25%': 1.0, 'top-50%': 1.0, 'top-65%': 1.0, 'top-75%': 1.0, 'top-85%': 1.0, 'top-95%': 1.0})\n",
      "Intron position predicted by the model:  ({45127: 9, 51295: 1, 54439: 5, 60286: 18, 61663: 3, 62134: 0, 64779: 7, 65044: 36}, {'top-k': 0.62, 'top-10%': 0.75, 'top-25%': 0.88, 'top-50%': 1.0, 'top-65%': 1.0, 'top-75%': 1.0, 'top-85%': 1.0, 'top-95%': 1.0})\n"
     ]
    }
   ],
   "source": [
    "#ABCD3\n",
    "arr_0, arr_1 = testing_transcripts(transcript_id='ENST00000315713', model=model, return_arr=True)"
   ]
  },
  {
   "cell_type": "code",
   "execution_count": null,
   "metadata": {
    "colab": {
     "base_uri": "https://localhost:8080/"
    },
    "id": "_o9URhVKqj_d",
    "outputId": "a2f17dfd-32d9-46c1-a91b-14634c9be586"
   },
   "outputs": [
    {
     "name": "stderr",
     "output_type": "stream",
     "text": [
      "/usr/local/lib/python3.7/dist-packages/ipykernel_launcher.py:18: DeprecationWarning: The binary mode of fromstring is deprecated, as it behaves surprisingly on unicode inputs. Use frombuffer instead\n"
     ]
    },
    {
     "name": "stdout",
     "output_type": "stream",
     "text": [
      "Intron positions on string:  [(5197, 10632), (11120, 16795), (16928, 19002), (19122, 20680), (20770, 20942), (21057, 24942), (25028, 26311)]\n",
      "Number of sequences predicted per index (donor, acceptor,other):  [   38    57 31721]\n",
      "Intron position predicted by the model:  ({5197: 0, 11120: 5, 16928: 3, 19122: 1, 20770: 4, 21057: 6, 25028: 2}, {'top-k': 1.0, 'top-10%': 0.43, 'top-25%': 1.0, 'top-50%': 1.0, 'top-65%': 1.0, 'top-75%': 1.0, 'top-85%': 1.0, 'top-95%': 1.0})\n",
      "Intron position predicted by the model:  ({10632: 8, 16795: 2, 19002: 1, 20680: 7, 20942: 6, 24942: 3, 26311: 0}, {'top-k': 0.71, 'top-10%': 0.57, 'top-25%': 1.0, 'top-50%': 1.0, 'top-65%': 1.0, 'top-75%': 1.0, 'top-85%': 1.0, 'top-95%': 1.0})\n"
     ]
    }
   ],
   "source": [
    "#LRRC42\n",
    "arr_0, arr_1 = testing_transcripts(transcript_id='ENST00000319223', model=model, return_arr=True)"
   ]
  },
  {
   "cell_type": "code",
   "execution_count": null,
   "metadata": {
    "colab": {
     "base_uri": "https://localhost:8080/"
    },
    "id": "ZpMTUgtBebbl",
    "outputId": "947f9aca-60f7-4eee-b9b9-fc809fc216de"
   },
   "outputs": [
    {
     "name": "stderr",
     "output_type": "stream",
     "text": [
      "/usr/local/lib/python3.7/dist-packages/ipykernel_launcher.py:18: DeprecationWarning: The binary mode of fromstring is deprecated, as it behaves surprisingly on unicode inputs. Use frombuffer instead\n"
     ]
    },
    {
     "name": "stdout",
     "output_type": "stream",
     "text": [
      "Intron positions on string:  [(5123, 29227), (29339, 34008), (34118, 55873), (56090, 59250), (59341, 60222), (60387, 61522), (61649, 65074), (65322, 66990), (67084, 73615), (73799, 84438), (84631, 112713), (112809, 115327), (115415, 116908), (117633, 119904), (120034, 127800), (127839, 128506), (128758, 131648), (131729, 135493), (135645, 136555), (136784, 139587), (139689, 152496), (152746, 167412), (167569, 177816), (177907, 189662), (189836, 190433), (190540, 191882)]\n",
      "Number of sequences predicted per index (donor, acceptor,other):  [   216    245 198180]\n",
      "Intron position predicted by the model:  ({5123: 27, 29339: 0, 34118: 31, 56090: 126, 59341: 4, 60387: 21, 61649: 6, 65322: 22, 67084: 11, 73799: 25, 84631: 10, 112809: 1, 115415: 33, 117633: 14, 120034: 19, 127839: 5, 128758: 69, 131729: 12, 135645: 2, 136784: 40, 139689: 7, 152746: 114, 167569: 8, 177907: 9, 189836: 24, 190540: 13}, {'top-k': 0.73, 'top-10%': 0.58, 'top-25%': 0.88, 'top-50%': 0.92, 'top-65%': 1.0, 'top-75%': 1.0, 'top-85%': 1.0, 'top-95%': 1.0})\n",
      "Intron position predicted by the model:  ({29227: 0, 34008: 11, 55873: 12, 59250: 10, 60222: 8, 61522: 24, 65074: 25, 66990: 6, 73615: 23, 84438: 4, 112713: 7, 115327: 46, 116908: 'Not found', 119904: 16, 127800: 14, 128506: 22, 131648: 20, 135493: 9, 136555: 39, 139587: 17, 152496: 2, 167412: 1, 177816: 3, 189662: 13, 190433: 5, 191882: 15}, {'top-k': 0.88, 'top-10%': 0.81, 'top-25%': 0.96, 'top-50%': 0.96, 'top-65%': 0.96, 'top-75%': 0.96, 'top-85%': 0.96, 'top-95%': 0.96})\n"
     ]
    }
   ],
   "source": [
    "#CFTR\n",
    "arr_0, arr_1 = testing_transcripts(transcript_id='ENST00000003084', model=model, return_arr=True)"
   ]
  },
  {
   "cell_type": "code",
   "execution_count": null,
   "metadata": {
    "colab": {
     "base_uri": "https://localhost:8080/"
    },
    "id": "5Kg7ZbaoWkb7",
    "outputId": "a02c0ad5-078f-4f63-b1a7-da90a347ada7"
   },
   "outputs": [
    {
     "name": "stderr",
     "output_type": "stream",
     "text": [
      "/usr/local/lib/python3.7/dist-packages/ipykernel_launcher.py:18: DeprecationWarning: The binary mode of fromstring is deprecated, as it behaves surprisingly on unicode inputs. Use frombuffer instead\n"
     ]
    },
    {
     "name": "stdout",
     "output_type": "stream",
     "text": [
      "Intron positions on string:  [(14632, 5156), (22701, 14870), (23857, 22808), (24905, 24015), (26955, 25043), (28069, 27102), (30748, 28223), (34175, 30889)]\n",
      "Number of sequences predicted per index (donor, acceptor,other):  [   49    45 39731]\n",
      "Intron position predicted by the model:  ({5156: 16, 14870: 4, 22808: 0, 24015: 5, 25043: 3, 27102: 8, 28223: 7, 30889: 1}, {'top-k': 0.75, 'top-10%': 0.38, 'top-25%': 0.88, 'top-50%': 1.0, 'top-65%': 1.0, 'top-75%': 1.0, 'top-85%': 1.0, 'top-95%': 1.0})\n",
      "Intron position predicted by the model:  ({14632: 'Not found', 22701: 2, 23857: 7, 24905: 3, 26955: 6, 28069: 13, 30748: 1, 34175: 5}, {'top-k': 0.75, 'top-10%': 0.38, 'top-25%': 0.75, 'top-50%': 0.88, 'top-65%': 0.88, 'top-75%': 0.88, 'top-85%': 0.88, 'top-95%': 0.88})\n"
     ]
    }
   ],
   "source": [
    "#LRRC39\n",
    "arr_0, arr_1 = testing_transcripts(transcript_id='ENST00000342895', model=model, return_arr=True)"
   ]
  },
  {
   "cell_type": "code",
   "execution_count": null,
   "metadata": {
    "colab": {
     "base_uri": "https://localhost:8080/"
    },
    "id": "ivCSEMUvhM78",
    "outputId": "d7f9dc27-0a45-4a6f-82a6-3964dc406b5a"
   },
   "outputs": [
    {
     "name": "stderr",
     "output_type": "stream",
     "text": [
      "/usr/local/lib/python3.7/dist-packages/ipykernel_launcher.py:18: DeprecationWarning: The binary mode of fromstring is deprecated, as it behaves surprisingly on unicode inputs. Use frombuffer instead\n"
     ]
    },
    {
     "name": "stdout",
     "output_type": "stream",
     "text": [
      "Intron positions on string:  [(8127, 5107), (8957, 8304), (10385, 9067), (11358, 10619), (13577, 11560), (19456, 13713), (19817, 19733), (24250, 19927), (25869, 24438), (27003, 25999), (28933, 27249), (29502, 29150), (33285, 29709), (34063, 33409), (35022, 34154), (36116, 35116), (36496, 36252), (38632, 36627), (51316, 38884), (53984, 51404), (54642, 54153), (55076, 54756), (56644, 55240), (58092, 56738), (62847, 58240), (67847, 62991), (68147, 68011), (100033, 68294), (110259, 100110), (117324, 110400), (120759, 117426), (122505, 120876), (122795, 122584), (127892, 122904), (128115, 128019), (133084, 128248), (134353, 133201), (136773, 134472), (137712, 137023), (138599, 137814), (138998, 138697), (139424, 139098), (139744, 139548), (140406, 139928), (140754, 140542), (142917, 140930), (145424, 143054), (146182, 145573), (150464, 146306), (152082, 150548), (152663, 152156), (153097, 152739), (154633, 153234), (157821, 154700), (158180, 157903), (159264, 158262), (160050, 159371)]\n",
      "Number of sequences predicted per index (donor, acceptor,other):  [   244    307 165466]\n",
      "Intron position predicted by the model:  ({5107: 67, 8304: 51, 9067: 35, 10619: 27, 11560: 47, 13713: 41, 19733: 12, 19927: 19, 24438: 29, 25999: 9, 27249: 28, 29150: 63, 29709: 37, 33409: 33, 34154: 78, 35116: 6, 36252: 24, 36627: 25, 38884: 11, 51404: 38, 54153: 0, 54756: 21, 55240: 16, 56738: 7, 58240: 10, 62991: 76, 68011: 5, 68294: 39, 100110: 2, 110400: 20, 117426: 8, 120876: 46, 122584: 31, 122904: 55, 128019: 23, 128248: 73, 133201: 14, 134472: 61, 137023: 15, 137814: 43, 138697: 36, 139098: 13, 139548: 49, 139928: 30, 140542: 1, 140930: 45, 143054: 4, 145573: 17, 146306: 26, 150548: 34, 152156: 84, 152739: 22, 153234: 18, 154700: 3, 157903: 42, 158262: 32, 159371: 40}, {'top-k': 0.88, 'top-10%': 0.42, 'top-25%': 0.88, 'top-50%': 1.0, 'top-65%': 1.0, 'top-75%': 1.0, 'top-85%': 1.0, 'top-95%': 1.0})\n",
      "Intron position predicted by the model:  ({8127: 289, 8957: 10, 10385: 28, 11358: 23, 13577: 49, 19456: 59, 19817: 18, 24250: 3, 25869: 0, 27003: 38, 28933: 32, 29502: 21, 33285: 24, 34063: 51, 35022: 4, 36116: 8, 36496: 11, 38632: 6, 51316: 43, 53984: 1, 54642: 22, 55076: 45, 56644: 26, 58092: 35, 62847: 97, 67847: 14, 68147: 33, 100033: 37, 110259: 56, 117324: 12, 120759: 31, 122505: 46, 122795: 47, 127892: 15, 128115: 83, 133084: 7, 134353: 16, 136773: 25, 137712: 53, 138599: 61, 138998: 20, 139424: 60, 139744: 2, 140406: 9, 140754: 50, 142917: 13, 145424: 90, 146182: 55, 150464: 39, 152082: 54, 152663: 27, 153097: 5, 154633: 17, 157821: 19, 158180: 42, 159264: 34, 160050: 41}, {'top-k': 0.88, 'top-10%': 0.51, 'top-25%': 0.93, 'top-50%': 0.98, 'top-65%': 0.98, 'top-75%': 0.98, 'top-85%': 0.98, 'top-95%': 1.0})\n"
     ]
    }
   ],
   "source": [
    "#MTOR\n",
    "arr_0, arr_1 = testing_transcripts(transcript_id='ENST00000361445', model=model, return_arr=True)"
   ]
  },
  {
   "cell_type": "code",
   "execution_count": null,
   "metadata": {
    "colab": {
     "base_uri": "https://localhost:8080/"
    },
    "id": "v7bhtgRei9lr",
    "outputId": "ad127a6f-65f3-43f6-b70b-c30c8ec292cc"
   },
   "outputs": [
    {
     "name": "stderr",
     "output_type": "stream",
     "text": [
      "/usr/local/lib/python3.7/dist-packages/ipykernel_launcher.py:18: DeprecationWarning: The binary mode of fromstring is deprecated, as it behaves surprisingly on unicode inputs. Use frombuffer instead\n"
     ]
    },
    {
     "name": "stdout",
     "output_type": "stream",
     "text": [
      "Intron positions on string:  [(5160, 5913), (6020, 8568), (8818, 14567), (14677, 15592), (15643, 15733), (15775, 15990), (16106, 18934), (18985, 20410), (20523, 21763), (22880, 25756), (30689, 34049), (34146, 36318), (36389, 44352), (44781, 45919), (46102, 47233), (47422, 52014), (52186, 52670), (53026, 59893), (60050, 60447), (60593, 66161), (66284, 68808), (69008, 69241), (69406, 69498), (69638, 84180), (84426, 86389), (86537, 87653)]\n",
      "Number of sequences predicted per index (donor, acceptor,other):  [  120   149 94492]\n",
      "Intron position predicted by the model:  ({5160: 23, 6020: 37, 8818: 49, 14677: 1, 15643: 16, 15775: 14, 16106: 25, 18985: 3, 20523: 11, 22880: 20, 30689: 5, 34146: 62, 36389: 9, 44781: 19, 46102: 8, 47422: 18, 52186: 61, 53026: 13, 60050: 10, 60593: 2, 66284: 6, 69008: 4, 69406: 24, 69638: 0, 84426: 30, 86537: 7}, {'top-k': 0.81, 'top-10%': 0.46, 'top-25%': 0.81, 'top-50%': 0.92, 'top-65%': 1.0, 'top-75%': 1.0, 'top-85%': 1.0, 'top-95%': 1.0})\n",
      "Intron position predicted by the model:  ({5913: 21, 8568: 18, 14567: 6, 15592: 13, 15733: 12, 15990: 23, 18934: 8, 20410: 4, 21763: 10, 25756: 16, 34049: 30, 36318: 7, 44352: 11, 45919: 9, 47233: 0, 52014: 27, 52670: 14, 59893: 3, 60447: 15, 66161: 1, 68808: 60, 69241: 26, 69498: 5, 84180: 20, 86389: 2, 87653: 28}, {'top-k': 0.81, 'top-10%': 0.54, 'top-25%': 0.96, 'top-50%': 1.0, 'top-65%': 1.0, 'top-75%': 1.0, 'top-85%': 1.0, 'top-95%': 1.0})\n"
     ]
    }
   ],
   "source": [
    "#BRCA2\n",
    "arr_0, arr_1 = testing_transcripts(transcript_id='ENST00000380152', model=model, return_arr=True)"
   ]
  },
  {
   "cell_type": "markdown",
   "metadata": {
    "id": "qfjFYCOujjKF"
   },
   "source": [
    "## Mus musculus"
   ]
  },
  {
   "cell_type": "code",
   "execution_count": null,
   "metadata": {
    "colab": {
     "base_uri": "https://localhost:8080/"
    },
    "id": "X3Qx1KBJiMHD",
    "outputId": "4f452e48-dffb-43e8-a642-fc31cb9357c5"
   },
   "outputs": [
    {
     "name": "stderr",
     "output_type": "stream",
     "text": [
      "/usr/local/lib/python3.7/dist-packages/ipykernel_launcher.py:18: DeprecationWarning: The binary mode of fromstring is deprecated, as it behaves surprisingly on unicode inputs. Use frombuffer instead\n"
     ]
    },
    {
     "name": "stdout",
     "output_type": "stream",
     "text": [
      "Intron positions on string:  [(5063, 8631), (8808, 9396), (9506, 10132), (10366, 10926)]\n",
      "Number of sequences predicted per index (donor, acceptor,other):  [   37    51 16261]\n",
      "Intron position predicted by the model:  ({5063: 2, 8808: 0, 9506: 7, 10366: 3}, {'top-k': 0.75, 'top-10%': 0.5, 'top-25%': 1.0, 'top-50%': 1.0, 'top-65%': 1.0, 'top-75%': 1.0, 'top-85%': 1.0, 'top-95%': 1.0})\n",
      "Intron position predicted by the model:  ({8631: 29, 9396: 4, 10132: 2, 10926: 1}, {'top-k': 0.5, 'top-10%': 0.75, 'top-25%': 0.75, 'top-50%': 0.75, 'top-65%': 1.0, 'top-75%': 1.0, 'top-85%': 1.0, 'top-95%': 1.0})\n"
     ]
    }
   ],
   "source": [
    "#MTOR\n",
    "arr_0, arr_1 = testing_transcripts(transcript_id='ENSMUST00000057580', model=model, return_arr=True)"
   ]
  },
  {
   "cell_type": "code",
   "execution_count": null,
   "metadata": {
    "colab": {
     "base_uri": "https://localhost:8080/"
    },
    "id": "CGTCTEQhk3kq",
    "outputId": "013d68f3-3178-42c5-f941-a3c1e0af5e26"
   },
   "outputs": [
    {
     "name": "stderr",
     "output_type": "stream",
     "text": [
      "/usr/local/lib/python3.7/dist-packages/ipykernel_launcher.py:18: DeprecationWarning: The binary mode of fromstring is deprecated, as it behaves surprisingly on unicode inputs. Use frombuffer instead\n"
     ]
    },
    {
     "name": "stdout",
     "output_type": "stream",
     "text": [
      "Intron positions on string:  [(6664, 5761)]\n",
      "Number of sequences predicted per index (donor, acceptor,other):  [   30    26 12589]\n",
      "Intron position predicted by the model:  ({5761: 0}, {'top-k': 1.0, 'top-10%': 1.0, 'top-25%': 1.0, 'top-50%': 1.0, 'top-65%': 1.0, 'top-75%': 1.0, 'top-85%': 1.0, 'top-95%': 1.0})\n",
      "Intron position predicted by the model:  ({6664: 0}, {'top-k': 1.0, 'top-10%': 1.0, 'top-25%': 1.0, 'top-50%': 1.0, 'top-65%': 1.0, 'top-75%': 1.0, 'top-85%': 1.0, 'top-95%': 1.0})\n"
     ]
    }
   ],
   "source": [
    "#Musculin \n",
    "arr_0, arr_1 = testing_transcripts(transcript_id='ENSMUST00000027062',model=model, return_arr=True)"
   ]
  },
  {
   "cell_type": "code",
   "execution_count": null,
   "metadata": {
    "colab": {
     "base_uri": "https://localhost:8080/"
    },
    "id": "jTWcK0mTlvXq",
    "outputId": "cc2cb933-8346-47f8-d6e9-0467c4c79591"
   },
   "outputs": [
    {
     "name": "stderr",
     "output_type": "stream",
     "text": [
      "/usr/local/lib/python3.7/dist-packages/ipykernel_launcher.py:18: DeprecationWarning: The binary mode of fromstring is deprecated, as it behaves surprisingly on unicode inputs. Use frombuffer instead\n"
     ]
    },
    {
     "name": "stdout",
     "output_type": "stream",
     "text": [
      "Intron positions on string:  [(5287, 6192), (6295, 6381), (6576, 6957), (7106, 7194), (7399, 7773), (7959, 8452), (8597, 9268), (9531, 10190), (10341, 10596), (10769, 11161), (11269, 11391), (11512, 11841), (12046, 12172), (12330, 12413), (12542, 12810), (12997, 13489), (13712, 14005), (14246, 15467), (15822, 15958), (16087, 17221), (17316, 17467), (17714, 17822), (17871, 18325)]\n",
      "Number of sequences predicted per index (donor, acceptor,other):  [   58    80 24546]\n",
      "Intron position predicted by the model:  ({5287: 18, 6295: 6, 6576: 21, 7106: 17, 7399: 11, 7959: 10, 8597: 12, 9531: 16, 10341: 3, 10769: 20, 11269: 5, 11512: 1, 12046: 35, 12330: 15, 12542: 'Not found', 12997: 0, 13712: 4, 14246: 7, 15822: 9, 16087: 13, 17316: 2, 17714: 8, 17871: 19}, {'top-k': 0.91, 'top-10%': 0.22, 'top-25%': 0.61, 'top-50%': 0.91, 'top-65%': 0.96, 'top-75%': 0.96, 'top-85%': 0.96, 'top-95%': 0.96})\n",
      "Intron position predicted by the model:  ({6192: 10, 6381: 5, 6957: 13, 7194: 21, 7773: 16, 8452: 20, 9268: 3, 10190: 6, 10596: 11, 11161: 2, 11391: 14, 11841: 1, 12172: 18, 12413: 33, 12810: 0, 13489: 19, 14005: 58, 15467: 7, 15958: 31, 17221: 15, 17467: 4, 17822: 12, 18325: 9}, {'top-k': 0.87, 'top-10%': 0.35, 'top-25%': 0.78, 'top-50%': 0.96, 'top-65%': 0.96, 'top-75%': 1.0, 'top-85%': 1.0, 'top-95%': 1.0})\n"
     ]
    }
   ],
   "source": [
    "#Cntnap1\n",
    "arr_0, arr_1 =testing_transcripts(transcript_id='ENSMUST00000103109',model=model, return_arr=True)"
   ]
  },
  {
   "cell_type": "markdown",
   "metadata": {
    "id": "qgftejEFmK6i"
   },
   "source": [
    "## Danio rerio"
   ]
  },
  {
   "cell_type": "code",
   "execution_count": null,
   "metadata": {
    "colab": {
     "base_uri": "https://localhost:8080/"
    },
    "id": "x8Pb5bZcmPJJ",
    "outputId": "a301bf31-596e-4ef0-f20e-a09d52bc1c3a"
   },
   "outputs": [
    {
     "name": "stderr",
     "output_type": "stream",
     "text": [
      "/usr/local/lib/python3.7/dist-packages/ipykernel_launcher.py:18: DeprecationWarning: The binary mode of fromstring is deprecated, as it behaves surprisingly on unicode inputs. Use frombuffer instead\n"
     ]
    },
    {
     "name": "stdout",
     "output_type": "stream",
     "text": [
      "Intron positions on string:  [(5217, 7677), (7858, 8145), (8230, 9086), (9191, 9279), (9381, 10489), (10774, 12173), (12381, 17204), (17307, 18358)]\n",
      "Number of sequences predicted per index (donor, acceptor,other):  [   47    73 23963]\n",
      "Intron position predicted by the model:  ({5217: 1, 7858: 11, 8230: 4, 9191: 6, 9381: 2, 10774: 0, 12381: 3, 17307: 7}, {'top-k': 0.88, 'top-10%': 0.5, 'top-25%': 0.88, 'top-50%': 1.0, 'top-65%': 1.0, 'top-75%': 1.0, 'top-85%': 1.0, 'top-95%': 1.0})\n",
      "Intron position predicted by the model:  ({7677: 4, 8145: 5, 9086: 3, 9279: 2, 10489: 1, 12173: 0, 17204: 6, 18358: 8}, {'top-k': 0.88, 'top-10%': 0.88, 'top-25%': 1.0, 'top-50%': 1.0, 'top-65%': 1.0, 'top-75%': 1.0, 'top-85%': 1.0, 'top-95%': 1.0})\n"
     ]
    }
   ],
   "source": [
    "#slc24a5-201\n",
    "arr_0, arr_1 = testing_transcripts(transcript_id='ENSDART00000033574', model=model, return_arr=True)"
   ]
  },
  {
   "cell_type": "code",
   "execution_count": null,
   "metadata": {
    "colab": {
     "base_uri": "https://localhost:8080/"
    },
    "id": "MVDIfXNQmkCP",
    "outputId": "bb249ba6-daaa-432f-865c-994470579dd2"
   },
   "outputs": [
    {
     "name": "stderr",
     "output_type": "stream",
     "text": [
      "/usr/local/lib/python3.7/dist-packages/ipykernel_launcher.py:18: DeprecationWarning: The binary mode of fromstring is deprecated, as it behaves surprisingly on unicode inputs. Use frombuffer instead\n"
     ]
    },
    {
     "name": "stdout",
     "output_type": "stream",
     "text": [
      "Intron positions on string:  [(9649, 5059), (11449, 9821), (13609, 11559), (15847, 13843), (16132, 16049), (20743, 16268), (22072, 21020), (24193, 22182), (26169, 24378), (29884, 26299), (32437, 30130), (34441, 32654), (37572, 34648), (40419, 37696), (43174, 40504), (49140, 43268), (51264, 49276), (61599, 51395), (64470, 61851), (68604, 64558), (79100, 68773), (82790, 79214), (85058, 82954), (89303, 85152), (93196, 89451), (95636, 93340), (98047, 95800), (131182, 98194), (138799, 131259), (153958, 138940), (156176, 154060), (162857, 156293), (165897, 162936), (173077, 166006), (174939, 173204), (183827, 175072), (192026, 183944), (194050, 192145), (194689, 194249), (201369, 194791), (203091, 201467), (209447, 203191), (212537, 209571), (215910, 212721), (218867, 216046), (220991, 219043), (227582, 221128), (229026, 227731), (231710, 229150), (231899, 231794), (232048, 231973), (237201, 232124), (237407, 237338), (237796, 237474), (241206, 237878), (241368, 241288), (248395, 241475)]\n",
      "Number of sequences predicted per index (donor, acceptor,other):  [   552    684 252972]\n",
      "Intron position predicted by the model:  ({5059: 38, 9821: 5, 11559: 72, 13843: 74, 16049: 124, 16268: 20, 21020: 22, 22182: 58, 24378: 52, 26299: 127, 30130: 34, 32654: 16, 34648: 28, 37696: 4, 40504: 46, 43268: 2, 49276: 25, 51395: 31, 61851: 60, 64558: 23, 68773: 33, 79214: 12, 82954: 15, 85152: 7, 89451: 17, 93340: 59, 95800: 44, 98194: 90, 131259: 18, 138940: 19, 154060: 69, 156293: 40, 162936: 43, 166006: 9, 173204: 3, 175072: 1, 183944: 6, 192145: 27, 194249: 78, 194791: 51, 201467: 10, 203191: 13, 209571: 47, 212721: 37, 216046: 49, 219043: 374, 221128: 11, 227731: 24, 229150: 14, 231794: 30, 231973: 56, 232124: 29, 237338: 181, 237474: 32, 237878: 102, 241288: 8, 241475: 0}, {'top-k': 0.77, 'top-10%': 0.75, 'top-25%': 0.96, 'top-50%': 0.98, 'top-65%': 0.98, 'top-75%': 1.0, 'top-85%': 1.0, 'top-95%': 1.0})\n",
      "Intron position predicted by the model:  ({9649: 46, 11449: 101, 13609: 212, 15847: 49, 16132: 79, 20743: 58, 22072: 41, 24193: 31, 26169: 61, 29884: 43, 32437: 10, 34441: 63, 37572: 30, 40419: 9, 43174: 28, 49140: 22, 51264: 17, 61599: 14, 64470: 23, 68604: 12, 79100: 26, 82790: 5, 85058: 13, 89303: 8, 93196: 62, 95636: 6, 98047: 35, 131182: 33, 138799: 4, 153958: 86, 156176: 21, 162857: 90, 165897: 0, 173077: 1, 174939: 7, 183827: 2, 192026: 25, 194050: 11, 194689: 38, 201369: 15, 203091: 16, 209447: 47, 212537: 74, 215910: 40, 218867: 67, 220991: 19, 227582: 27, 229026: 24, 231710: 52, 231899: 48, 232048: 36, 237201: 53, 237407: 103, 237796: 68, 241206: 37, 241368: 3, 248395: 18}, {'top-k': 0.77, 'top-10%': 0.86, 'top-25%': 0.98, 'top-50%': 1.0, 'top-65%': 1.0, 'top-75%': 1.0, 'top-85%': 1.0, 'top-95%': 1.0})\n"
     ]
    }
   ],
   "source": [
    "#MTOR\n",
    "arr_0, arr_1 = testing_transcripts(transcript_id='ENSDART00000075189', model=model, return_arr=True)"
   ]
  },
  {
   "cell_type": "markdown",
   "metadata": {
    "id": "owZ1FqP6npen"
   },
   "source": [
    "## Drosophila melanogaster"
   ]
  },
  {
   "cell_type": "code",
   "execution_count": null,
   "metadata": {
    "colab": {
     "base_uri": "https://localhost:8080/"
    },
    "id": "at0uyIZVoIrk",
    "outputId": "9f466644-a420-4fbd-b6dd-53c51aa2ede5"
   },
   "outputs": [
    {
     "name": "stderr",
     "output_type": "stream",
     "text": [
      "/usr/local/lib/python3.7/dist-packages/ipykernel_launcher.py:18: DeprecationWarning: The binary mode of fromstring is deprecated, as it behaves surprisingly on unicode inputs. Use frombuffer instead\n"
     ]
    },
    {
     "name": "stdout",
     "output_type": "stream",
     "text": [
      "Intron positions on string:  [(5232, 8142), (8612, 52961), (53010, 63765), (63805, 83955), (84485, 88388), (89093, 89151)]\n",
      "Number of sequences predicted per index (donor, acceptor,other):  [   271    307 101728]\n",
      "Intron position predicted by the model:  ({5232: 162, 8612: 0, 53010: 2, 63805: 3, 84485: 1, 89093: 21}, {'top-k': 0.67, 'top-10%': 0.83, 'top-25%': 0.83, 'top-50%': 0.83, 'top-65%': 1.0, 'top-75%': 1.0, 'top-85%': 1.0, 'top-95%': 1.0})\n",
      "Intron position predicted by the model:  ({8142: 'Not found', 52961: 2, 63765: 1, 83955: 19, 88388: 14, 89151: 21}, {'top-k': 0.33, 'top-10%': 0.83, 'top-25%': 0.83, 'top-50%': 0.83, 'top-65%': 0.83, 'top-75%': 0.83, 'top-85%': 0.83, 'top-95%': 0.83})\n"
     ]
    }
   ],
   "source": [
    "#msi-RF\n",
    "arr_0, arr_1 = testing_transcripts(transcript_id='FBtr0333664', model=model, return_arr=True)"
   ]
  },
  {
   "cell_type": "markdown",
   "metadata": {
    "id": "P8rNPlS4oYpl"
   },
   "source": [
    "MTOR"
   ]
  },
  {
   "cell_type": "code",
   "execution_count": null,
   "metadata": {
    "colab": {
     "base_uri": "https://localhost:8080/"
    },
    "id": "sqNWLydNocGv",
    "outputId": "9ae5c577-7ad0-4e3e-8a34-e27d79db03d3"
   },
   "outputs": [
    {
     "name": "stderr",
     "output_type": "stream",
     "text": [
      "/usr/local/lib/python3.7/dist-packages/ipykernel_launcher.py:18: DeprecationWarning: The binary mode of fromstring is deprecated, as it behaves surprisingly on unicode inputs. Use frombuffer instead\n"
     ]
    },
    {
     "name": "stdout",
     "output_type": "stream",
     "text": [
      "Intron positions on string:  [(5290, 5730), (11867, 11922), (12255, 12312), (12447, 12697)]\n",
      "Number of sequences predicted per index (donor, acceptor,other):  [   82    86 18418]\n",
      "Intron position predicted by the model:  ({5290: 0, 11867: 4, 12255: 11, 12447: 3}, {'top-k': 0.5, 'top-10%': 0.75, 'top-25%': 1.0, 'top-50%': 1.0, 'top-65%': 1.0, 'top-75%': 1.0, 'top-85%': 1.0, 'top-95%': 1.0})\n",
      "Intron position predicted by the model:  ({5730: 3, 11922: 'Not found', 12312: 7, 12697: 2}, {'top-k': 0.5, 'top-10%': 0.75, 'top-25%': 0.75, 'top-50%': 0.75, 'top-65%': 0.75, 'top-75%': 0.75, 'top-85%': 0.75, 'top-95%': 0.75})\n"
     ]
    }
   ],
   "source": [
    "#MTOR\n",
    "arr_0, arr_1 = testing_transcripts(transcript_id='FBtr0332464', model=model, return_arr=True)"
   ]
  },
  {
   "cell_type": "markdown",
   "metadata": {
    "id": "g_FTUjDgooaw"
   },
   "source": [
    "## Arabidopsis thaliana"
   ]
  },
  {
   "cell_type": "code",
   "execution_count": null,
   "metadata": {
    "colab": {
     "base_uri": "https://localhost:8080/"
    },
    "id": "DcVegNN6ozDT",
    "outputId": "db999ac0-09ed-48f3-8c7c-2c4ec26916a5"
   },
   "outputs": [
    {
     "name": "stderr",
     "output_type": "stream",
     "text": [
      "/usr/local/lib/python3.7/dist-packages/ipykernel_launcher.py:18: DeprecationWarning: The binary mode of fromstring is deprecated, as it behaves surprisingly on unicode inputs. Use frombuffer instead\n"
     ]
    },
    {
     "name": "stdout",
     "output_type": "stream",
     "text": [
      "Intron positions on string:  [(5762, 6862)]\n",
      "Number of sequences predicted per index (donor, acceptor,other):  [   40    34 13282]\n",
      "Intron position predicted by the model:  ({5762: 1}, {'top-k': 0.0, 'top-10%': 1.0, 'top-25%': 1.0, 'top-50%': 1.0, 'top-65%': 1.0, 'top-75%': 1.0, 'top-85%': 1.0, 'top-95%': 1.0})\n",
      "Intron position predicted by the model:  ({6862: 5}, {'top-k': 0.0, 'top-10%': 0.0, 'top-25%': 1.0, 'top-50%': 1.0, 'top-65%': 1.0, 'top-75%': 1.0, 'top-85%': 1.0, 'top-95%': 1.0})\n"
     ]
    }
   ],
   "source": [
    "#AT3G52430\n",
    "arr_0, arr_1 = testing_transcripts(transcript_id='AT3G52430', model=model, return_arr=True)"
   ]
  },
  {
   "cell_type": "code",
   "execution_count": null,
   "metadata": {
    "colab": {
     "base_uri": "https://localhost:8080/"
    },
    "id": "hTEH4TNgo-KJ",
    "outputId": "a046b91e-14cd-4216-c611-da306989228a"
   },
   "outputs": [
    {
     "name": "stderr",
     "output_type": "stream",
     "text": [
      "/usr/local/lib/python3.7/dist-packages/ipykernel_launcher.py:18: DeprecationWarning: The binary mode of fromstring is deprecated, as it behaves surprisingly on unicode inputs. Use frombuffer instead\n"
     ]
    },
    {
     "name": "stdout",
     "output_type": "stream",
     "text": [
      "Intron positions on string:  [(5462, 5023), (5827, 5737), (6081, 5974), (6243, 6159), (6455, 6367), (6642, 6559), (6865, 6783), (7050, 6953), (7206, 7120), (7357, 7279), (7547, 7477), (7742, 7662), (7882, 7789)]\n",
      "Number of sequences predicted per index (donor, acceptor,other):  [   71    82 13001]\n",
      "Intron position predicted by the model:  ({5023: 62, 5737: 30, 5974: 'Not found', 6159: 54, 6367: 6, 6559: 18, 6783: 16, 6953: 'Not found', 7120: 'Not found', 7279: 3, 7477: 32, 7662: 0, 7789: 52}, {'top-k': 0.23, 'top-10%': 0.23, 'top-25%': 0.31, 'top-50%': 0.54, 'top-65%': 0.54, 'top-75%': 0.62, 'top-85%': 0.69, 'top-95%': 0.77})\n",
      "Intron position predicted by the model:  ({5462: 7, 5827: 29, 6081: 79, 6243: 4, 6455: 17, 6642: 59, 6865: 'Not found', 7050: 18, 7206: 14, 7357: 40, 7547: 22, 7742: 81, 7882: 'Not found'}, {'top-k': 0.15, 'top-10%': 0.15, 'top-25%': 0.38, 'top-50%': 0.62, 'top-65%': 0.62, 'top-75%': 0.69, 'top-85%': 0.69, 'top-95%': 0.69})\n"
     ]
    }
   ],
   "source": [
    "#Carboxy\n",
    "arr_0, arr_1 = testing_transcripts(transcript_id='AT1G73300', model=model, return_arr=True)"
   ]
  },
  {
   "cell_type": "code",
   "execution_count": null,
   "metadata": {
    "colab": {
     "base_uri": "https://localhost:8080/"
    },
    "id": "GdOux2yQpNg9",
    "outputId": "bd1e3b66-cdcd-4c8d-fcff-ff929f1e06da"
   },
   "outputs": [
    {
     "name": "stderr",
     "output_type": "stream",
     "text": [
      "/usr/local/lib/python3.7/dist-packages/ipykernel_launcher.py:18: DeprecationWarning: The binary mode of fromstring is deprecated, as it behaves surprisingly on unicode inputs. Use frombuffer instead\n"
     ]
    },
    {
     "name": "stdout",
     "output_type": "stream",
     "text": [
      "Intron positions on string:  [(5595, 5521), (5789, 5699), (5954, 5876), (6195, 6114), (6402, 6313), (7047, 6552), (7333, 7203), (7558, 7479), (7730, 7638), (8050, 7833), (8237, 8135), (8665, 8349), (9118, 9020), (9539, 9300), (10212, 10107), (10622, 10531), (11062, 10750), (11286, 11188), (11527, 11433), (11777, 11630), (11972, 11864), (12134, 12055)]\n",
      "Number of sequences predicted per index (donor, acceptor,other):  [   59    90 18192]\n",
      "Intron position predicted by the model:  ({5521: 10, 5699: 'Not found', 5876: 32, 6114: 1, 6313: 15, 6552: 7, 7203: 14, 7479: 43, 7638: 17, 7833: 38, 8135: 49, 8349: 3, 9020: 54, 9300: 11, 10107: 6, 10531: 4, 10750: 9, 11188: 'Not found', 11433: 35, 11630: 18, 11864: 2, 12055: 'Not found'}, {'top-k': 0.59, 'top-10%': 0.18, 'top-25%': 0.41, 'top-50%': 0.59, 'top-65%': 0.68, 'top-75%': 0.77, 'top-85%': 0.82, 'top-95%': 0.86})\n",
      "Intron position predicted by the model:  ({5595: 'Not found', 5789: 36, 5954: 2, 6195: 15, 6402: 4, 7047: 9, 7333: 34, 7558: 30, 7730: 29, 8050: 'Not found', 8237: 6, 8665: 3, 9118: 33, 9539: 7, 10212: 12, 10622: 11, 11062: 25, 11286: 13, 11527: 38, 11777: 1, 11972: 64, 12134: 17}, {'top-k': 0.55, 'top-10%': 0.27, 'top-25%': 0.55, 'top-50%': 0.86, 'top-65%': 0.86, 'top-75%': 0.91, 'top-85%': 0.91, 'top-95%': 0.91})\n"
     ]
    }
   ],
   "source": [
    "# TOR\n",
    "arr_0, arr_1 = testing_transcripts(transcript_id='AT5G01770', model=model, return_arr=True)"
   ]
  },
  {
   "cell_type": "markdown",
   "metadata": {
    "id": "_3gErR5MpStg"
   },
   "source": [
    "##C.elegans"
   ]
  },
  {
   "cell_type": "code",
   "execution_count": null,
   "metadata": {
    "colab": {
     "base_uri": "https://localhost:8080/"
    },
    "id": "bArV1hB8pWhp",
    "outputId": "7a97affd-79c2-4b97-88a9-e9d85a7020ea"
   },
   "outputs": [
    {
     "name": "stderr",
     "output_type": "stream",
     "text": [
      "/usr/local/lib/python3.7/dist-packages/ipykernel_launcher.py:18: DeprecationWarning: The binary mode of fromstring is deprecated, as it behaves surprisingly on unicode inputs. Use frombuffer instead\n"
     ]
    },
    {
     "name": "stdout",
     "output_type": "stream",
     "text": [
      "Intron positions on string:  [(6150, 5117), (7004, 6375), (7688, 7212), (7905, 7839), (8482, 8083)]\n",
      "Number of sequences predicted per index (donor, acceptor,other):  [   55    43 13960]\n",
      "Intron position predicted by the model:  ({5117: 20, 6375: 0, 7212: 2, 7839: 13, 8083: 1}, {'top-k': 0.6, 'top-10%': 0.6, 'top-25%': 0.6, 'top-50%': 1.0, 'top-65%': 1.0, 'top-75%': 1.0, 'top-85%': 1.0, 'top-95%': 1.0})\n",
      "Intron position predicted by the model:  ({6150: 14, 7004: 0, 7688: 15, 7905: 1, 8482: 3}, {'top-k': 0.6, 'top-10%': 0.6, 'top-25%': 0.6, 'top-50%': 1.0, 'top-65%': 1.0, 'top-75%': 1.0, 'top-85%': 1.0, 'top-95%': 1.0})\n"
     ]
    }
   ],
   "source": [
    "arr_0, arr_1 = testing_transcripts(transcript_id='F53H8.4.1', model=model, return_arr=True)"
   ]
  },
  {
   "cell_type": "code",
   "execution_count": null,
   "metadata": {
    "colab": {
     "base_uri": "https://localhost:8080/"
    },
    "id": "pwO8mq1vpdg0",
    "outputId": "0a76a275-9142-40cb-c6d6-b72ae718ab80"
   },
   "outputs": [
    {
     "name": "stderr",
     "output_type": "stream",
     "text": [
      "/usr/local/lib/python3.7/dist-packages/ipykernel_launcher.py:18: DeprecationWarning: The binary mode of fromstring is deprecated, as it behaves surprisingly on unicode inputs. Use frombuffer instead\n"
     ]
    },
    {
     "name": "stdout",
     "output_type": "stream",
     "text": [
      "Intron positions on string:  [(5296, 5964), (6133, 6298), (7034, 7082)]\n",
      "Number of sequences predicted per index (donor, acceptor,other):  [   54    52 12287]\n",
      "Intron position predicted by the model:  ({5296: 1, 6133: 9, 7034: 6}, {'top-k': 0.33, 'top-10%': 0.33, 'top-25%': 1.0, 'top-50%': 1.0, 'top-65%': 1.0, 'top-75%': 1.0, 'top-85%': 1.0, 'top-95%': 1.0})\n",
      "Intron position predicted by the model:  ({5964: 6, 6298: 3, 7082: 12}, {'top-k': 0.0, 'top-10%': 0.33, 'top-25%': 1.0, 'top-50%': 1.0, 'top-65%': 1.0, 'top-75%': 1.0, 'top-85%': 1.0, 'top-95%': 1.0})\n"
     ]
    }
   ],
   "source": [
    "arr_0, arr_1 = testing_transcripts(transcript_id='ZK20.1.1', model=model, return_arr=True)"
   ]
  },
  {
   "cell_type": "markdown",
   "metadata": {
    "id": "aXWCM7kFNkCw"
   },
   "source": [
    "# Saving the model"
   ]
  },
  {
   "cell_type": "code",
   "execution_count": 12,
   "metadata": {
    "colab": {
     "base_uri": "https://localhost:8080/"
    },
    "id": "raHf_hkQTadS",
    "outputId": "b5e8d7ef-ed03-49d6-f5e3-69346dc7d7c4"
   },
   "outputs": [],
   "source": [
    "os.chdir(\"../../models\")"
   ]
  },
  {
   "cell_type": "code",
   "execution_count": null,
   "metadata": {
    "id": "OYLLUupzl09D"
   },
   "outputs": [],
   "source": [
    "model.save_weights(\"deep_splicer_weights.h5\")\n",
    "model.save(\"deep_splicer.h5\")"
   ]
  },
  {
   "cell_type": "code",
   "execution_count": null,
   "metadata": {
    "id": "0UZLgCB2bXlt"
   },
   "outputs": [],
   "source": []
  }
 ],
 "metadata": {
  "accelerator": "GPU",
  "colab": {
   "collapsed_sections": [],
   "machine_shape": "hm",
   "name": "Deep_Splicer",
   "provenance": [],
   "toc_visible": true
  },
  "interpreter": {
   "hash": "7ad5f07e47999a310a3dbc65802d3b3fe2a48b9a4836e8b2abc370029f0364e6"
  },
  "kernelspec": {
   "display_name": "Python 3.8.8 ('base')",
   "language": "python",
   "name": "python3"
  },
  "language_info": {
   "codemirror_mode": {
    "name": "ipython",
    "version": 3
   },
   "file_extension": ".py",
   "mimetype": "text/x-python",
   "name": "python",
   "nbconvert_exporter": "python",
   "pygments_lexer": "ipython3",
   "version": "3.11.7"
  }
 },
 "nbformat": 4,
 "nbformat_minor": 1
}
